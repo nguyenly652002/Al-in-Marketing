{
 "cells": [
  {
   "cell_type": "markdown",
   "id": "a86c0f08",
   "metadata": {},
   "source": [
    "# Lab 2.1. Product analysis - Thanh Duong"
   ]
  },
  {
   "cell_type": "code",
   "execution_count": null,
   "id": "2d87cfbc",
   "metadata": {},
   "outputs": [],
   "source": [
    "%matplotlib inline \n",
    "\n",
    " \n",
    "\n",
    "import matplotlib.pyplot as plt \n",
    "import pandas as pd \n",
    "\n",
    " \n",
    "\n",
    "df = pd.read_excel(io='Online_Retail.xlsx', sheet_name='Online Retail') "
   ]
  },
  {
   "cell_type": "code",
   "execution_count": null,
   "id": "78e21ca6",
   "metadata": {},
   "outputs": [],
   "source": [
    "ax = df['Quantity'].plot.box( showfliers=False, grid=True, figsize=(10, 7) ) \n",
    "ax.set_ylabel('Order Quantity') \n",
    "ax.set_title('Quantity Distribution') \n",
    "plt.suptitle(\"\")\n",
    "plt.show()"
   ]
  },
  {
   "cell_type": "code",
   "execution_count": null,
   "id": "27228ec7",
   "metadata": {},
   "outputs": [],
   "source": [
    "df = df.loc[df['Quantity'] > 0] "
   ]
  },
  {
   "cell_type": "code",
   "execution_count": null,
   "id": "11f26ed4",
   "metadata": {},
   "outputs": [],
   "source": [
    "monthly_orders_df = df.set_index('InvoiceDate') ['InvoiceNo'].resample('M').nunique() "
   ]
  },
  {
   "cell_type": "code",
   "execution_count": null,
   "id": "6c072920",
   "metadata": {},
   "outputs": [],
   "source": [
    "ax = pd.DataFrame(monthly_orders_df.values).plot( grid=True, \n",
    "figsize=(10,7), legend=False) \n",
    "ax.set_xlabel('date') \n",
    "ax.set_ylabel('number of orders/invoices') \n",
    "ax.set_title('Total Number of Orders Over Time') \n",
    "plt.xticks( range(len(monthly_orders_df.index)), [x.strftime('%m.%Y') for x in monthly_orders_df.index], rotation=45 ) \n",
    "plt.show() "
   ]
  },
  {
   "cell_type": "code",
   "execution_count": null,
   "id": "6db8bf56",
   "metadata": {},
   "outputs": [],
   "source": [
    "invoice_dates = df.loc[ df['InvoiceDate'] >= '2011-12-01', 'InvoiceDate' ] \n",
    "print('Min date: %s\\nMax date: %s' % (invoice_dates.min(), invoice_dates.max())) "
   ]
  },
  {
   "cell_type": "code",
   "execution_count": null,
   "id": "7d406d76",
   "metadata": {},
   "outputs": [],
   "source": [
    "df = df.loc[df['InvoiceDate'] < '2011-12-01'] "
   ]
  },
  {
   "cell_type": "code",
   "execution_count": null,
   "id": "cfd2575b",
   "metadata": {},
   "outputs": [],
   "source": [
    "df['Sales'] = df['Quantity'] * df['UnitPrice'] \n",
    "monthly_revenue_df = df.set_index('InvoiceDate')['Sales'].resample('M').sum()\n",
    "monthly_revenue_df"
   ]
  },
  {
   "cell_type": "code",
   "execution_count": null,
   "id": "abea871c",
   "metadata": {},
   "outputs": [],
   "source": [
    "ax = pd.DataFrame(monthly_revenue_df.values).plot( grid=True, \n",
    "figsize=(10,7), legend=False ) \n",
    "ax.set_xlabel('date') \n",
    "ax.set_ylabel('sales') \n",
    "ax.set_title('Total Revenue Over Time') \n",
    "ax.set_ylim([0, max(monthly_revenue_df.values)+100000]) \n",
    "plt.xticks( range(len(monthly_revenue_df.index)), \n",
    "[x.strftime('%m.%Y') for x in monthly_revenue_df.index], rotation=45 ) \n",
    "plt.show() "
   ]
  },
  {
   "cell_type": "code",
   "execution_count": null,
   "id": "617f07eb",
   "metadata": {},
   "outputs": [],
   "source": [
    "df.head()"
   ]
  },
  {
   "cell_type": "code",
   "execution_count": null,
   "id": "78c32734",
   "metadata": {},
   "outputs": [],
   "source": [
    "invoice_customer_df = df.groupby( by=['InvoiceNo', 'InvoiceDate'] ).agg({ 'Sales': sum, 'CustomerID': max, 'Country': max, }).reset_index()\n",
    "invoice_customer_df.head()"
   ]
  },
  {
   "cell_type": "code",
   "execution_count": null,
   "id": "b593c2c1",
   "metadata": {},
   "outputs": [],
   "source": [
    "monthly_repeat_customers_df = invoice_customer_df.set_index('InvoiceDate').groupby([ \n",
    "pd.Grouper(freq='M'), 'CustomerID' ]).filter(lambda x: len(x) > 1).resample('M').nunique()['CustomerID']\n",
    "monthly_repeat_customers_df.head()"
   ]
  },
  {
   "cell_type": "code",
   "execution_count": null,
   "id": "a92f6e32",
   "metadata": {},
   "outputs": [],
   "source": [
    "monthly_unique_customers_df = df.set_index('InvoiceDate') ['CustomerID'].resample('M').nunique()\n",
    "monthly_unique_customers_df.head()"
   ]
  },
  {
   "cell_type": "code",
   "execution_count": null,
   "id": "3bdfccf7",
   "metadata": {},
   "outputs": [],
   "source": [
    "monthly_repeat_percentage = monthly_repeat_customers_df/monthly_unique_customers_df*100.0\n",
    "monthly_repeat_percentage.head()"
   ]
  },
  {
   "cell_type": "code",
   "execution_count": null,
   "id": "9e384acb",
   "metadata": {},
   "outputs": [],
   "source": [
    "ax = pd.DataFrame(monthly_repeat_customers_df.values).plot( figsize=(10,7) ) \n",
    "pd.DataFrame(monthly_unique_customers_df.values).plot( ax=ax, \n",
    "grid=True ) \n",
    "ax2 = pd.DataFrame(monthly_repeat_percentage.values).plot.bar( ax=ax, grid=True, secondary_y=True, color='green', alpha=0.2 ) \n",
    "ax.set_xlabel('date') \n",
    "ax.set_ylabel('number of customers') \n",
    "ax.set_title('Number of All vs. Repeat Customers Over Time') \n",
    "ax2.set_ylabel('percentage (%)') \n",
    "ax.legend(['Repeat Customers', 'All Customers']) \n",
    "ax2.legend(['Percentage of Repeat'], loc='upper right') \n",
    "ax.set_ylim([0, monthly_unique_customers_df.values.max()+100]) \n",
    "ax2.set_ylim([0, 100]) \n",
    "plt.xticks( range(len(monthly_repeat_customers_df.index)), [x.strftime('%m.%Y') for x in monthly_repeat_customers_df.index], rotation=45 ) \n",
    "plt.show()"
   ]
  },
  {
   "cell_type": "code",
   "execution_count": null,
   "id": "d6f54d16",
   "metadata": {},
   "outputs": [],
   "source": [
    "monthly_rev_repeat_customers_df = invoice_customer_df.set_index('InvoiceDate').groupby([ pd.Grouper(freq='M'), 'CustomerID' ]).filter(lambda x: len(x) > 1).resample('M').sum()['Sales'] \n",
    "monthly_rev_perc_repeat_customers_df = monthly_rev_repeat_customers_df/monthly_revenue_df * 100.0 \n",
    "monthly_rev_perc_repeat_customers_df.head()"
   ]
  },
  {
   "cell_type": "code",
   "execution_count": null,
   "id": "4a63245c",
   "metadata": {},
   "outputs": [],
   "source": [
    "ax = pd.DataFrame(monthly_revenue_df.values).plot(figsize=(12,9)) \n",
    "pd.DataFrame(monthly_rev_repeat_customers_df.values).plot( ax=ax, grid=True, ) \n",
    "ax.set_xlabel('date') \n",
    "ax.set_ylabel('sales') \n",
    "ax.set_title('Total Revenue vs. Revenue from Repeat Customers') \n",
    "ax.legend(['Total Revenue', 'Repeat Customer Revenue']) \n",
    "ax.set_ylim([0, max(monthly_revenue_df.values)+100000]) \n",
    "ax2 = ax.twinx() \n",
    "pd.DataFrame(monthly_rev_perc_repeat_customers_df.values).plot( ax=ax2, kind='bar', color='g', alpha=0.2 ) \n",
    "ax2.set_ylim([0, max(monthly_rev_perc_repeat_customers_df.values)+30]) \n",
    "ax2.set_ylabel('percentage (%)') \n",
    "ax2.legend(['Repeat Revenue Percentage']) \n",
    "ax2.set_xticklabels([ \n",
    "x.strftime('%m.%Y') for x in monthly_rev_perc_repeat_customers_df.index ]) \n",
    "plt.show() "
   ]
  },
  {
   "cell_type": "code",
   "execution_count": null,
   "id": "1e47fb7a",
   "metadata": {},
   "outputs": [],
   "source": [
    "monthly_rev_repeat_customers_df = invoice_customer_df.set_index('InvoiceDate').groupby([ pd.Grouper(freq='M'), 'CustomerID' ]).filter(lambda x: len(x) > 1).resample('M').sum()['Sales'] \n",
    "monthly_rev_perc_repeat_customers_df = monthly_rev_repeat_customers_df/monthly_revenue_df * 100.0 \n",
    "monthly_rev_perc_repeat_customers_df"
   ]
  },
  {
   "cell_type": "code",
   "execution_count": null,
   "id": "db33e11f",
   "metadata": {},
   "outputs": [],
   "source": [
    "ax = pd.DataFrame(monthly_revenue_df.values).plot(figsize=(12,9)) \n",
    "pd.DataFrame(monthly_rev_repeat_customers_df.values).plot(ax=ax,grid=True,) \n",
    "ax.set_xlabel('date') \n",
    "ax.set_ylabel('sales') \n",
    "ax.set_title('Total Revenue vs. Revenue from Repeat Customers') \n",
    "ax.legend(['Total Revenue', 'Repeat Customer Revenue']) \n",
    "ax.set_ylim([0, max(monthly_revenue_df.values)+100000]) \n",
    "ax2 = ax.twinx() \n",
    "pd.DataFrame(monthly_rev_perc_repeat_customers_df.values).plot( ax=ax2, kind='bar', color='g', alpha=0.2 ) \n",
    "ax2.set_ylim([0, max(monthly_rev_perc_repeat_customers_df.values)+30]) \n",
    "ax2.set_ylabel('percentage (%)') \n",
    "ax2.legend(['Repeat Revenue Percentage']) \n",
    "ax2.set_xticklabels([ x.strftime('%m.%Y') for x in monthly_rev_perc_repeat_customers_df.index ]) \n",
    "plt.show() \n",
    " "
   ]
  },
  {
   "cell_type": "code",
   "execution_count": null,
   "id": "80b30ef1",
   "metadata": {},
   "outputs": [],
   "source": [
    "date_item_df = df.set_index('InvoiceDate').groupby([ pd.Grouper(freq='M'), 'StockCode' ])['Quantity'].sum() \n",
    "date_item_df"
   ]
  },
  {
   "cell_type": "code",
   "execution_count": null,
   "id": "2292e3aa",
   "metadata": {},
   "outputs": [],
   "source": [
    "# Rank items by the last month sales \n",
    "last_month_sorted_df = date_item_df.loc['2011-11-30'].sort_values(by='Quantity',ascending=False).reset_index()\n",
    "last_month_sorted_df"
   ]
  },
  {
   "cell_type": "code",
   "execution_count": null,
   "id": "cd954dd4",
   "metadata": {},
   "outputs": [],
   "source": [
    "date_item_df = df.loc[ df['StockCode'].isin([23084, 84826, 22197, 22086, '85099B']) ].set_index('InvoiceDate').groupby([ pd.Grouper(freq='M'), 'StockCode' ])['Quantity'].sum()\n",
    "date_item_df"
   ]
  },
  {
   "cell_type": "code",
   "execution_count": null,
   "id": "0829acfd",
   "metadata": {},
   "outputs": [],
   "source": [
    "trending_itmes_df = date_item_df.reset_index().pivot('InvoiceDate','StockCode').fillna(0) \n",
    "trending_itmes_df = trending_itmes_df.reset_index() \n",
    "trending_itmes_df = trending_itmes_df.set_index('InvoiceDate') \n",
    "trending_itmes_df.columns = trending_itmes_df.columns.droplevel(0)\n",
    "trending_itmes_df"
   ]
  },
  {
   "cell_type": "code",
   "execution_count": null,
   "id": "c2f2301c",
   "metadata": {},
   "outputs": [],
   "source": [
    "ax = pd.DataFrame(trending_itmes_df.values).plot( figsize=(10,7), grid=True, ) \n",
    "ax.set_ylabel('number of purchases') \n",
    "ax.set_xlabel('date') \n",
    "ax.set_title('Item Trends over Time') \n",
    "ax.legend(trending_itmes_df.columns, loc='upper left') \n",
    "plt.xticks( range(len(trending_itmes_df.index)), [x.strftime('%m.%Y') for x in trending_itmes_df.index], rotation=45 ) \n",
    "plt.show() "
   ]
  }
 ],
 "metadata": {
  "kernelspec": {
   "display_name": "Python 3 (ipykernel)",
   "language": "python",
   "name": "python3"
  },
  "language_info": {
   "codemirror_mode": {
    "name": "ipython",
    "version": 3
   },
   "file_extension": ".py",
   "mimetype": "text/x-python",
   "name": "python",
   "nbconvert_exporter": "python",
   "pygments_lexer": "ipython3",
   "version": "3.11.4"
  }
 },
 "nbformat": 4,
 "nbformat_minor": 5
}
