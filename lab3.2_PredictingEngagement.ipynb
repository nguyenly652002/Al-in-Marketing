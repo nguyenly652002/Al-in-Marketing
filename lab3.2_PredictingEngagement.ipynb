{
 "cells": [
  {
   "cell_type": "markdown",
   "id": "02f8254a",
   "metadata": {},
   "source": [
    "## Lab 3.2. Predicting Engagement - Dự đoán khả năng tương tác tiếp thị của KH\n",
    "#ThanhDuong"
   ]
  },
  {
   "cell_type": "code",
   "execution_count": 3,
   "id": "82498ea8",
   "metadata": {},
   "outputs": [],
   "source": [
    "%matplotlib inline"
   ]
  },
  {
   "cell_type": "code",
   "execution_count": 4,
   "id": "2f9006bf",
   "metadata": {},
   "outputs": [],
   "source": [
    "import matplotlib.pyplot as plt\n",
    "import pandas as pd\n"
   ]
  },
  {
   "cell_type": "markdown",
   "id": "86d8d27e",
   "metadata": {},
   "source": [
    "## 1.Load Data"
   ]
  },
  {
   "cell_type": "code",
   "execution_count": 5,
   "id": "10c13cfa",
   "metadata": {},
   "outputs": [],
   "source": [
    "df = pd.read_csv('WA_Fn-UseC_-Marketing-Customer-Value-Analysis.csv')"
   ]
  },
  {
   "cell_type": "code",
   "execution_count": 6,
   "id": "d511cdab",
   "metadata": {},
   "outputs": [
    {
     "data": {
      "text/plain": [
       "(9134, 24)"
      ]
     },
     "execution_count": 6,
     "metadata": {},
     "output_type": "execute_result"
    }
   ],
   "source": [
    "\n",
    "df.shape"
   ]
  },
  {
   "cell_type": "code",
   "execution_count": 7,
   "id": "4bc2876f",
   "metadata": {},
   "outputs": [
    {
     "data": {
      "text/html": [
       "<div>\n",
       "<style scoped>\n",
       "    .dataframe tbody tr th:only-of-type {\n",
       "        vertical-align: middle;\n",
       "    }\n",
       "\n",
       "    .dataframe tbody tr th {\n",
       "        vertical-align: top;\n",
       "    }\n",
       "\n",
       "    .dataframe thead th {\n",
       "        text-align: right;\n",
       "    }\n",
       "</style>\n",
       "<table border=\"1\" class=\"dataframe\">\n",
       "  <thead>\n",
       "    <tr style=\"text-align: right;\">\n",
       "      <th></th>\n",
       "      <th>Customer</th>\n",
       "      <th>State</th>\n",
       "      <th>Customer Lifetime Value</th>\n",
       "      <th>Response</th>\n",
       "      <th>Coverage</th>\n",
       "      <th>Education</th>\n",
       "      <th>Effective To Date</th>\n",
       "      <th>EmploymentStatus</th>\n",
       "      <th>Gender</th>\n",
       "      <th>Income</th>\n",
       "      <th>...</th>\n",
       "      <th>Months Since Policy Inception</th>\n",
       "      <th>Number of Open Complaints</th>\n",
       "      <th>Number of Policies</th>\n",
       "      <th>Policy Type</th>\n",
       "      <th>Policy</th>\n",
       "      <th>Renew Offer Type</th>\n",
       "      <th>Sales Channel</th>\n",
       "      <th>Total Claim Amount</th>\n",
       "      <th>Vehicle Class</th>\n",
       "      <th>Vehicle Size</th>\n",
       "    </tr>\n",
       "  </thead>\n",
       "  <tbody>\n",
       "    <tr>\n",
       "      <th>0</th>\n",
       "      <td>BU79786</td>\n",
       "      <td>Washington</td>\n",
       "      <td>2763.519279</td>\n",
       "      <td>No</td>\n",
       "      <td>Basic</td>\n",
       "      <td>Bachelor</td>\n",
       "      <td>2/24/2011</td>\n",
       "      <td>Employed</td>\n",
       "      <td>F</td>\n",
       "      <td>56274</td>\n",
       "      <td>...</td>\n",
       "      <td>5</td>\n",
       "      <td>0</td>\n",
       "      <td>1</td>\n",
       "      <td>Corporate Auto</td>\n",
       "      <td>Corporate L3</td>\n",
       "      <td>Offer1</td>\n",
       "      <td>Agent</td>\n",
       "      <td>384.811147</td>\n",
       "      <td>Two-Door Car</td>\n",
       "      <td>Medsize</td>\n",
       "    </tr>\n",
       "    <tr>\n",
       "      <th>1</th>\n",
       "      <td>QZ44356</td>\n",
       "      <td>Arizona</td>\n",
       "      <td>6979.535903</td>\n",
       "      <td>No</td>\n",
       "      <td>Extended</td>\n",
       "      <td>Bachelor</td>\n",
       "      <td>1/31/2011</td>\n",
       "      <td>Unemployed</td>\n",
       "      <td>F</td>\n",
       "      <td>0</td>\n",
       "      <td>...</td>\n",
       "      <td>42</td>\n",
       "      <td>0</td>\n",
       "      <td>8</td>\n",
       "      <td>Personal Auto</td>\n",
       "      <td>Personal L3</td>\n",
       "      <td>Offer3</td>\n",
       "      <td>Agent</td>\n",
       "      <td>1131.464935</td>\n",
       "      <td>Four-Door Car</td>\n",
       "      <td>Medsize</td>\n",
       "    </tr>\n",
       "    <tr>\n",
       "      <th>2</th>\n",
       "      <td>AI49188</td>\n",
       "      <td>Nevada</td>\n",
       "      <td>12887.431650</td>\n",
       "      <td>No</td>\n",
       "      <td>Premium</td>\n",
       "      <td>Bachelor</td>\n",
       "      <td>2/19/2011</td>\n",
       "      <td>Employed</td>\n",
       "      <td>F</td>\n",
       "      <td>48767</td>\n",
       "      <td>...</td>\n",
       "      <td>38</td>\n",
       "      <td>0</td>\n",
       "      <td>2</td>\n",
       "      <td>Personal Auto</td>\n",
       "      <td>Personal L3</td>\n",
       "      <td>Offer1</td>\n",
       "      <td>Agent</td>\n",
       "      <td>566.472247</td>\n",
       "      <td>Two-Door Car</td>\n",
       "      <td>Medsize</td>\n",
       "    </tr>\n",
       "    <tr>\n",
       "      <th>3</th>\n",
       "      <td>WW63253</td>\n",
       "      <td>California</td>\n",
       "      <td>7645.861827</td>\n",
       "      <td>No</td>\n",
       "      <td>Basic</td>\n",
       "      <td>Bachelor</td>\n",
       "      <td>1/20/2011</td>\n",
       "      <td>Unemployed</td>\n",
       "      <td>M</td>\n",
       "      <td>0</td>\n",
       "      <td>...</td>\n",
       "      <td>65</td>\n",
       "      <td>0</td>\n",
       "      <td>7</td>\n",
       "      <td>Corporate Auto</td>\n",
       "      <td>Corporate L2</td>\n",
       "      <td>Offer1</td>\n",
       "      <td>Call Center</td>\n",
       "      <td>529.881344</td>\n",
       "      <td>SUV</td>\n",
       "      <td>Medsize</td>\n",
       "    </tr>\n",
       "    <tr>\n",
       "      <th>4</th>\n",
       "      <td>HB64268</td>\n",
       "      <td>Washington</td>\n",
       "      <td>2813.692575</td>\n",
       "      <td>No</td>\n",
       "      <td>Basic</td>\n",
       "      <td>Bachelor</td>\n",
       "      <td>2/3/2011</td>\n",
       "      <td>Employed</td>\n",
       "      <td>M</td>\n",
       "      <td>43836</td>\n",
       "      <td>...</td>\n",
       "      <td>44</td>\n",
       "      <td>0</td>\n",
       "      <td>1</td>\n",
       "      <td>Personal Auto</td>\n",
       "      <td>Personal L1</td>\n",
       "      <td>Offer1</td>\n",
       "      <td>Agent</td>\n",
       "      <td>138.130879</td>\n",
       "      <td>Four-Door Car</td>\n",
       "      <td>Medsize</td>\n",
       "    </tr>\n",
       "  </tbody>\n",
       "</table>\n",
       "<p>5 rows × 24 columns</p>\n",
       "</div>"
      ],
      "text/plain": [
       "  Customer       State  Customer Lifetime Value Response  Coverage Education  \\\n",
       "0  BU79786  Washington              2763.519279       No     Basic  Bachelor   \n",
       "1  QZ44356     Arizona              6979.535903       No  Extended  Bachelor   \n",
       "2  AI49188      Nevada             12887.431650       No   Premium  Bachelor   \n",
       "3  WW63253  California              7645.861827       No     Basic  Bachelor   \n",
       "4  HB64268  Washington              2813.692575       No     Basic  Bachelor   \n",
       "\n",
       "  Effective To Date EmploymentStatus Gender  Income  ...  \\\n",
       "0         2/24/2011         Employed      F   56274  ...   \n",
       "1         1/31/2011       Unemployed      F       0  ...   \n",
       "2         2/19/2011         Employed      F   48767  ...   \n",
       "3         1/20/2011       Unemployed      M       0  ...   \n",
       "4          2/3/2011         Employed      M   43836  ...   \n",
       "\n",
       "  Months Since Policy Inception Number of Open Complaints  Number of Policies  \\\n",
       "0                             5                         0                   1   \n",
       "1                            42                         0                   8   \n",
       "2                            38                         0                   2   \n",
       "3                            65                         0                   7   \n",
       "4                            44                         0                   1   \n",
       "\n",
       "      Policy Type        Policy  Renew Offer Type  Sales Channel  \\\n",
       "0  Corporate Auto  Corporate L3            Offer1          Agent   \n",
       "1   Personal Auto   Personal L3            Offer3          Agent   \n",
       "2   Personal Auto   Personal L3            Offer1          Agent   \n",
       "3  Corporate Auto  Corporate L2            Offer1    Call Center   \n",
       "4   Personal Auto   Personal L1            Offer1          Agent   \n",
       "\n",
       "  Total Claim Amount  Vehicle Class Vehicle Size  \n",
       "0         384.811147   Two-Door Car      Medsize  \n",
       "1        1131.464935  Four-Door Car      Medsize  \n",
       "2         566.472247   Two-Door Car      Medsize  \n",
       "3         529.881344            SUV      Medsize  \n",
       "4         138.130879  Four-Door Car      Medsize  \n",
       "\n",
       "[5 rows x 24 columns]"
      ]
     },
     "execution_count": 7,
     "metadata": {},
     "output_type": "execute_result"
    }
   ],
   "source": [
    "df.head()"
   ]
  },
  {
   "cell_type": "markdown",
   "id": "3e128f6c",
   "metadata": {},
   "source": [
    "## 2.Variable Encoding - Mã hóa các biến"
   ]
  },
  {
   "cell_type": "markdown",
   "id": "19011bf6",
   "metadata": {},
   "source": [
    "### 2.1.Response Variable: Response "
   ]
  },
  {
   "cell_type": "code",
   "execution_count": 8,
   "id": "e752baad",
   "metadata": {},
   "outputs": [],
   "source": [
    "df['Engaged'] = df['Response'].apply(lambda x: 1 if x == 'Yes' else 0)"
   ]
  },
  {
   "cell_type": "code",
   "execution_count": 9,
   "id": "bf7b3d4f",
   "metadata": {},
   "outputs": [
    {
     "data": {
      "text/plain": [
       "0.14320122618786948"
      ]
     },
     "execution_count": 9,
     "metadata": {},
     "output_type": "execute_result"
    }
   ],
   "source": [
    "df['Engaged'].mean()"
   ]
  },
  {
   "cell_type": "markdown",
   "id": "53fb4cbf",
   "metadata": {},
   "source": [
    "### 2.2.Features"
   ]
  },
  {
   "cell_type": "code",
   "execution_count": 10,
   "id": "b7c344e9",
   "metadata": {
    "scrolled": true
   },
   "outputs": [
    {
     "data": {
      "text/html": [
       "<div>\n",
       "<style scoped>\n",
       "    .dataframe tbody tr th:only-of-type {\n",
       "        vertical-align: middle;\n",
       "    }\n",
       "\n",
       "    .dataframe tbody tr th {\n",
       "        vertical-align: top;\n",
       "    }\n",
       "\n",
       "    .dataframe thead th {\n",
       "        text-align: right;\n",
       "    }\n",
       "</style>\n",
       "<table border=\"1\" class=\"dataframe\">\n",
       "  <thead>\n",
       "    <tr style=\"text-align: right;\">\n",
       "      <th></th>\n",
       "      <th>Customer Lifetime Value</th>\n",
       "      <th>Income</th>\n",
       "      <th>Monthly Premium Auto</th>\n",
       "      <th>Months Since Last Claim</th>\n",
       "      <th>Months Since Policy Inception</th>\n",
       "      <th>Number of Open Complaints</th>\n",
       "      <th>Number of Policies</th>\n",
       "      <th>Total Claim Amount</th>\n",
       "      <th>Engaged</th>\n",
       "    </tr>\n",
       "  </thead>\n",
       "  <tbody>\n",
       "    <tr>\n",
       "      <th>count</th>\n",
       "      <td>9134.000000</td>\n",
       "      <td>9134.000000</td>\n",
       "      <td>9134.000000</td>\n",
       "      <td>9134.000000</td>\n",
       "      <td>9134.000000</td>\n",
       "      <td>9134.000000</td>\n",
       "      <td>9134.000000</td>\n",
       "      <td>9134.000000</td>\n",
       "      <td>9134.000000</td>\n",
       "    </tr>\n",
       "    <tr>\n",
       "      <th>mean</th>\n",
       "      <td>8004.940475</td>\n",
       "      <td>37657.380009</td>\n",
       "      <td>93.219291</td>\n",
       "      <td>15.097000</td>\n",
       "      <td>48.064594</td>\n",
       "      <td>0.384388</td>\n",
       "      <td>2.966170</td>\n",
       "      <td>434.088794</td>\n",
       "      <td>0.143201</td>\n",
       "    </tr>\n",
       "    <tr>\n",
       "      <th>std</th>\n",
       "      <td>6870.967608</td>\n",
       "      <td>30379.904734</td>\n",
       "      <td>34.407967</td>\n",
       "      <td>10.073257</td>\n",
       "      <td>27.905991</td>\n",
       "      <td>0.910384</td>\n",
       "      <td>2.390182</td>\n",
       "      <td>290.500092</td>\n",
       "      <td>0.350297</td>\n",
       "    </tr>\n",
       "    <tr>\n",
       "      <th>min</th>\n",
       "      <td>1898.007675</td>\n",
       "      <td>0.000000</td>\n",
       "      <td>61.000000</td>\n",
       "      <td>0.000000</td>\n",
       "      <td>0.000000</td>\n",
       "      <td>0.000000</td>\n",
       "      <td>1.000000</td>\n",
       "      <td>0.099007</td>\n",
       "      <td>0.000000</td>\n",
       "    </tr>\n",
       "    <tr>\n",
       "      <th>25%</th>\n",
       "      <td>3994.251794</td>\n",
       "      <td>0.000000</td>\n",
       "      <td>68.000000</td>\n",
       "      <td>6.000000</td>\n",
       "      <td>24.000000</td>\n",
       "      <td>0.000000</td>\n",
       "      <td>1.000000</td>\n",
       "      <td>272.258244</td>\n",
       "      <td>0.000000</td>\n",
       "    </tr>\n",
       "    <tr>\n",
       "      <th>50%</th>\n",
       "      <td>5780.182197</td>\n",
       "      <td>33889.500000</td>\n",
       "      <td>83.000000</td>\n",
       "      <td>14.000000</td>\n",
       "      <td>48.000000</td>\n",
       "      <td>0.000000</td>\n",
       "      <td>2.000000</td>\n",
       "      <td>383.945434</td>\n",
       "      <td>0.000000</td>\n",
       "    </tr>\n",
       "    <tr>\n",
       "      <th>75%</th>\n",
       "      <td>8962.167041</td>\n",
       "      <td>62320.000000</td>\n",
       "      <td>109.000000</td>\n",
       "      <td>23.000000</td>\n",
       "      <td>71.000000</td>\n",
       "      <td>0.000000</td>\n",
       "      <td>4.000000</td>\n",
       "      <td>547.514839</td>\n",
       "      <td>0.000000</td>\n",
       "    </tr>\n",
       "    <tr>\n",
       "      <th>max</th>\n",
       "      <td>83325.381190</td>\n",
       "      <td>99981.000000</td>\n",
       "      <td>298.000000</td>\n",
       "      <td>35.000000</td>\n",
       "      <td>99.000000</td>\n",
       "      <td>5.000000</td>\n",
       "      <td>9.000000</td>\n",
       "      <td>2893.239678</td>\n",
       "      <td>1.000000</td>\n",
       "    </tr>\n",
       "  </tbody>\n",
       "</table>\n",
       "</div>"
      ],
      "text/plain": [
       "       Customer Lifetime Value        Income  Monthly Premium Auto  \\\n",
       "count              9134.000000   9134.000000           9134.000000   \n",
       "mean               8004.940475  37657.380009             93.219291   \n",
       "std                6870.967608  30379.904734             34.407967   \n",
       "min                1898.007675      0.000000             61.000000   \n",
       "25%                3994.251794      0.000000             68.000000   \n",
       "50%                5780.182197  33889.500000             83.000000   \n",
       "75%                8962.167041  62320.000000            109.000000   \n",
       "max               83325.381190  99981.000000            298.000000   \n",
       "\n",
       "       Months Since Last Claim  Months Since Policy Inception  \\\n",
       "count              9134.000000                    9134.000000   \n",
       "mean                 15.097000                      48.064594   \n",
       "std                  10.073257                      27.905991   \n",
       "min                   0.000000                       0.000000   \n",
       "25%                   6.000000                      24.000000   \n",
       "50%                  14.000000                      48.000000   \n",
       "75%                  23.000000                      71.000000   \n",
       "max                  35.000000                      99.000000   \n",
       "\n",
       "       Number of Open Complaints  Number of Policies  Total Claim Amount  \\\n",
       "count                9134.000000         9134.000000         9134.000000   \n",
       "mean                    0.384388            2.966170          434.088794   \n",
       "std                     0.910384            2.390182          290.500092   \n",
       "min                     0.000000            1.000000            0.099007   \n",
       "25%                     0.000000            1.000000          272.258244   \n",
       "50%                     0.000000            2.000000          383.945434   \n",
       "75%                     0.000000            4.000000          547.514839   \n",
       "max                     5.000000            9.000000         2893.239678   \n",
       "\n",
       "           Engaged  \n",
       "count  9134.000000  \n",
       "mean      0.143201  \n",
       "std       0.350297  \n",
       "min       0.000000  \n",
       "25%       0.000000  \n",
       "50%       0.000000  \n",
       "75%       0.000000  \n",
       "max       1.000000  "
      ]
     },
     "execution_count": 10,
     "metadata": {},
     "output_type": "execute_result"
    }
   ],
   "source": [
    "df.describe()"
   ]
  },
  {
   "cell_type": "code",
   "execution_count": 11,
   "id": "51973b6c",
   "metadata": {},
   "outputs": [],
   "source": [
    "continuous_features = [\n",
    "    'Customer Lifetime Value', 'Income', 'Monthly Premium Auto',\n",
    "    'Months Since Last Claim', 'Months Since Policy Inception',\n",
    "    'Number of Open Complaints', 'Number of Policies', 'Total Claim Amount'\n",
    "]\n"
   ]
  },
  {
   "cell_type": "markdown",
   "id": "7bdb7b75",
   "metadata": {},
   "source": [
    "#### - Creating Dummy Variables - Tạo các biến giả"
   ]
  },
  {
   "cell_type": "code",
   "execution_count": 12,
   "id": "62c46891",
   "metadata": {},
   "outputs": [],
   "source": [
    "columns_to_encode = [\n",
    "    'Sales Channel', 'Vehicle Size', 'Vehicle Class', 'Policy', 'Policy Type', \n",
    "    'EmploymentStatus', 'Marital Status', 'Education', 'Coverage'\n",
    "]\n",
    "\n",
    "categorical_features = []\n",
    "for col in columns_to_encode:\n",
    "    encoded_df = pd.get_dummies(df[col])\n",
    "    encoded_df.columns = [col.replace(' ', '.') + '.' + x for x in encoded_df.columns]\n",
    "    \n",
    "    categorical_features += list(encoded_df.columns)\n",
    "    \n",
    "    df = pd.concat([df, encoded_df], axis=1)\n"
   ]
  },
  {
   "cell_type": "markdown",
   "id": "419751c8",
   "metadata": {},
   "source": [
    "#### - Encoding Gender - Mã hóa giới tính"
   ]
  },
  {
   "cell_type": "code",
   "execution_count": 13,
   "id": "8775642e",
   "metadata": {},
   "outputs": [],
   "source": [
    "df['Is.Female'] = df['Gender'].apply(lambda x: 1 if x == 'F' else 0)\n",
    "\n",
    "categorical_features.append('Is.Female')\n"
   ]
  },
  {
   "cell_type": "markdown",
   "id": "854e3b25",
   "metadata": {},
   "source": [
    "#### - all features & response - tất cả các thuộc tính và sự phản hồi"
   ]
  },
  {
   "cell_type": "code",
   "execution_count": 14,
   "id": "92018f2e",
   "metadata": {},
   "outputs": [],
   "source": [
    "all_features = continuous_features + categorical_features\n",
    "response = 'Engaged'"
   ]
  },
  {
   "cell_type": "code",
   "execution_count": 15,
   "id": "bd9ae627",
   "metadata": {},
   "outputs": [],
   "source": [
    "sample_df = df[all_features + [response]]\n",
    "sample_df.columns = [x.replace(' ', '.') for x in sample_df.columns]\n",
    "all_features = [x.replace(' ', '.') for x in all_features]\n"
   ]
  },
  {
   "cell_type": "code",
   "execution_count": 16,
   "id": "e7b1079d",
   "metadata": {},
   "outputs": [
    {
     "data": {
      "text/html": [
       "<div>\n",
       "<style scoped>\n",
       "    .dataframe tbody tr th:only-of-type {\n",
       "        vertical-align: middle;\n",
       "    }\n",
       "\n",
       "    .dataframe tbody tr th {\n",
       "        vertical-align: top;\n",
       "    }\n",
       "\n",
       "    .dataframe thead th {\n",
       "        text-align: right;\n",
       "    }\n",
       "</style>\n",
       "<table border=\"1\" class=\"dataframe\">\n",
       "  <thead>\n",
       "    <tr style=\"text-align: right;\">\n",
       "      <th></th>\n",
       "      <th>Customer.Lifetime.Value</th>\n",
       "      <th>Income</th>\n",
       "      <th>Monthly.Premium.Auto</th>\n",
       "      <th>Months.Since.Last.Claim</th>\n",
       "      <th>Months.Since.Policy.Inception</th>\n",
       "      <th>Number.of.Open.Complaints</th>\n",
       "      <th>Number.of.Policies</th>\n",
       "      <th>Total.Claim.Amount</th>\n",
       "      <th>Sales.Channel.Agent</th>\n",
       "      <th>Sales.Channel.Branch</th>\n",
       "      <th>...</th>\n",
       "      <th>Education.Bachelor</th>\n",
       "      <th>Education.College</th>\n",
       "      <th>Education.Doctor</th>\n",
       "      <th>Education.High.School.or.Below</th>\n",
       "      <th>Education.Master</th>\n",
       "      <th>Coverage.Basic</th>\n",
       "      <th>Coverage.Extended</th>\n",
       "      <th>Coverage.Premium</th>\n",
       "      <th>Is.Female</th>\n",
       "      <th>Engaged</th>\n",
       "    </tr>\n",
       "  </thead>\n",
       "  <tbody>\n",
       "    <tr>\n",
       "      <th>0</th>\n",
       "      <td>2763.519279</td>\n",
       "      <td>56274</td>\n",
       "      <td>69</td>\n",
       "      <td>32</td>\n",
       "      <td>5</td>\n",
       "      <td>0</td>\n",
       "      <td>1</td>\n",
       "      <td>384.811147</td>\n",
       "      <td>1</td>\n",
       "      <td>0</td>\n",
       "      <td>...</td>\n",
       "      <td>1</td>\n",
       "      <td>0</td>\n",
       "      <td>0</td>\n",
       "      <td>0</td>\n",
       "      <td>0</td>\n",
       "      <td>1</td>\n",
       "      <td>0</td>\n",
       "      <td>0</td>\n",
       "      <td>1</td>\n",
       "      <td>0</td>\n",
       "    </tr>\n",
       "    <tr>\n",
       "      <th>1</th>\n",
       "      <td>6979.535903</td>\n",
       "      <td>0</td>\n",
       "      <td>94</td>\n",
       "      <td>13</td>\n",
       "      <td>42</td>\n",
       "      <td>0</td>\n",
       "      <td>8</td>\n",
       "      <td>1131.464935</td>\n",
       "      <td>1</td>\n",
       "      <td>0</td>\n",
       "      <td>...</td>\n",
       "      <td>1</td>\n",
       "      <td>0</td>\n",
       "      <td>0</td>\n",
       "      <td>0</td>\n",
       "      <td>0</td>\n",
       "      <td>0</td>\n",
       "      <td>1</td>\n",
       "      <td>0</td>\n",
       "      <td>1</td>\n",
       "      <td>0</td>\n",
       "    </tr>\n",
       "    <tr>\n",
       "      <th>2</th>\n",
       "      <td>12887.431650</td>\n",
       "      <td>48767</td>\n",
       "      <td>108</td>\n",
       "      <td>18</td>\n",
       "      <td>38</td>\n",
       "      <td>0</td>\n",
       "      <td>2</td>\n",
       "      <td>566.472247</td>\n",
       "      <td>1</td>\n",
       "      <td>0</td>\n",
       "      <td>...</td>\n",
       "      <td>1</td>\n",
       "      <td>0</td>\n",
       "      <td>0</td>\n",
       "      <td>0</td>\n",
       "      <td>0</td>\n",
       "      <td>0</td>\n",
       "      <td>0</td>\n",
       "      <td>1</td>\n",
       "      <td>1</td>\n",
       "      <td>0</td>\n",
       "    </tr>\n",
       "    <tr>\n",
       "      <th>3</th>\n",
       "      <td>7645.861827</td>\n",
       "      <td>0</td>\n",
       "      <td>106</td>\n",
       "      <td>18</td>\n",
       "      <td>65</td>\n",
       "      <td>0</td>\n",
       "      <td>7</td>\n",
       "      <td>529.881344</td>\n",
       "      <td>0</td>\n",
       "      <td>0</td>\n",
       "      <td>...</td>\n",
       "      <td>1</td>\n",
       "      <td>0</td>\n",
       "      <td>0</td>\n",
       "      <td>0</td>\n",
       "      <td>0</td>\n",
       "      <td>1</td>\n",
       "      <td>0</td>\n",
       "      <td>0</td>\n",
       "      <td>0</td>\n",
       "      <td>0</td>\n",
       "    </tr>\n",
       "    <tr>\n",
       "      <th>4</th>\n",
       "      <td>2813.692575</td>\n",
       "      <td>43836</td>\n",
       "      <td>73</td>\n",
       "      <td>12</td>\n",
       "      <td>44</td>\n",
       "      <td>0</td>\n",
       "      <td>1</td>\n",
       "      <td>138.130879</td>\n",
       "      <td>1</td>\n",
       "      <td>0</td>\n",
       "      <td>...</td>\n",
       "      <td>1</td>\n",
       "      <td>0</td>\n",
       "      <td>0</td>\n",
       "      <td>0</td>\n",
       "      <td>0</td>\n",
       "      <td>1</td>\n",
       "      <td>0</td>\n",
       "      <td>0</td>\n",
       "      <td>0</td>\n",
       "      <td>0</td>\n",
       "    </tr>\n",
       "  </tbody>\n",
       "</table>\n",
       "<p>5 rows × 51 columns</p>\n",
       "</div>"
      ],
      "text/plain": [
       "   Customer.Lifetime.Value  Income  Monthly.Premium.Auto  \\\n",
       "0              2763.519279   56274                    69   \n",
       "1              6979.535903       0                    94   \n",
       "2             12887.431650   48767                   108   \n",
       "3              7645.861827       0                   106   \n",
       "4              2813.692575   43836                    73   \n",
       "\n",
       "   Months.Since.Last.Claim  Months.Since.Policy.Inception  \\\n",
       "0                       32                              5   \n",
       "1                       13                             42   \n",
       "2                       18                             38   \n",
       "3                       18                             65   \n",
       "4                       12                             44   \n",
       "\n",
       "   Number.of.Open.Complaints  Number.of.Policies  Total.Claim.Amount  \\\n",
       "0                          0                   1          384.811147   \n",
       "1                          0                   8         1131.464935   \n",
       "2                          0                   2          566.472247   \n",
       "3                          0                   7          529.881344   \n",
       "4                          0                   1          138.130879   \n",
       "\n",
       "   Sales.Channel.Agent  Sales.Channel.Branch  ...  Education.Bachelor  \\\n",
       "0                    1                     0  ...                   1   \n",
       "1                    1                     0  ...                   1   \n",
       "2                    1                     0  ...                   1   \n",
       "3                    0                     0  ...                   1   \n",
       "4                    1                     0  ...                   1   \n",
       "\n",
       "   Education.College  Education.Doctor  Education.High.School.or.Below  \\\n",
       "0                  0                 0                               0   \n",
       "1                  0                 0                               0   \n",
       "2                  0                 0                               0   \n",
       "3                  0                 0                               0   \n",
       "4                  0                 0                               0   \n",
       "\n",
       "   Education.Master  Coverage.Basic  Coverage.Extended  Coverage.Premium  \\\n",
       "0                 0               1                  0                 0   \n",
       "1                 0               0                  1                 0   \n",
       "2                 0               0                  0                 1   \n",
       "3                 0               1                  0                 0   \n",
       "4                 0               1                  0                 0   \n",
       "\n",
       "   Is.Female  Engaged  \n",
       "0          1        0  \n",
       "1          1        0  \n",
       "2          1        0  \n",
       "3          0        0  \n",
       "4          0        0  \n",
       "\n",
       "[5 rows x 51 columns]"
      ]
     },
     "execution_count": 16,
     "metadata": {},
     "output_type": "execute_result"
    }
   ],
   "source": [
    "sample_df.head()\n"
   ]
  },
  {
   "cell_type": "markdown",
   "id": "6770e5c4",
   "metadata": {},
   "source": [
    "## 3.Training & Testing"
   ]
  },
  {
   "cell_type": "code",
   "execution_count": 17,
   "id": "3fbc328e",
   "metadata": {},
   "outputs": [],
   "source": [
    "from sklearn.model_selection import train_test_split"
   ]
  },
  {
   "cell_type": "code",
   "execution_count": 18,
   "id": "acdb9ac9",
   "metadata": {},
   "outputs": [],
   "source": [
    "x_train, x_test, y_train, y_test = train_test_split(sample_df[all_features], sample_df[response], test_size=0.3)"
   ]
  },
  {
   "cell_type": "code",
   "execution_count": 19,
   "id": "13d27d6d",
   "metadata": {},
   "outputs": [
    {
     "data": {
      "text/plain": [
       "(9134, 51)"
      ]
     },
     "execution_count": 19,
     "metadata": {},
     "output_type": "execute_result"
    }
   ],
   "source": [
    "sample_df.shape"
   ]
  },
  {
   "cell_type": "code",
   "execution_count": 20,
   "id": "25512030",
   "metadata": {},
   "outputs": [
    {
     "data": {
      "text/plain": [
       "(6393, 50)"
      ]
     },
     "execution_count": 20,
     "metadata": {},
     "output_type": "execute_result"
    }
   ],
   "source": [
    "x_train.shape"
   ]
  },
  {
   "cell_type": "code",
   "execution_count": 21,
   "id": "35160d6a",
   "metadata": {},
   "outputs": [
    {
     "data": {
      "text/plain": [
       "(2741, 50)"
      ]
     },
     "execution_count": 21,
     "metadata": {},
     "output_type": "execute_result"
    }
   ],
   "source": [
    "x_test.shape"
   ]
  },
  {
   "cell_type": "markdown",
   "id": "97f67603",
   "metadata": {},
   "source": [
    "### 3.1.Building RandomForest Model"
   ]
  },
  {
   "cell_type": "code",
   "execution_count": 22,
   "id": "c595efa6",
   "metadata": {},
   "outputs": [],
   "source": [
    "from sklearn.ensemble import RandomForestClassifier"
   ]
  },
  {
   "cell_type": "code",
   "execution_count": 23,
   "id": "80583712",
   "metadata": {},
   "outputs": [],
   "source": [
    "rf_model = RandomForestClassifier(\n",
    "    n_estimators=200,\n",
    "    max_depth=5\n",
    ")\n"
   ]
  },
  {
   "cell_type": "code",
   "execution_count": 24,
   "id": "5fe88bcf",
   "metadata": {
    "scrolled": true
   },
   "outputs": [
    {
     "data": {
      "text/html": [
       "<style>#sk-container-id-1 {color: black;}#sk-container-id-1 pre{padding: 0;}#sk-container-id-1 div.sk-toggleable {background-color: white;}#sk-container-id-1 label.sk-toggleable__label {cursor: pointer;display: block;width: 100%;margin-bottom: 0;padding: 0.3em;box-sizing: border-box;text-align: center;}#sk-container-id-1 label.sk-toggleable__label-arrow:before {content: \"▸\";float: left;margin-right: 0.25em;color: #696969;}#sk-container-id-1 label.sk-toggleable__label-arrow:hover:before {color: black;}#sk-container-id-1 div.sk-estimator:hover label.sk-toggleable__label-arrow:before {color: black;}#sk-container-id-1 div.sk-toggleable__content {max-height: 0;max-width: 0;overflow: hidden;text-align: left;background-color: #f0f8ff;}#sk-container-id-1 div.sk-toggleable__content pre {margin: 0.2em;color: black;border-radius: 0.25em;background-color: #f0f8ff;}#sk-container-id-1 input.sk-toggleable__control:checked~div.sk-toggleable__content {max-height: 200px;max-width: 100%;overflow: auto;}#sk-container-id-1 input.sk-toggleable__control:checked~label.sk-toggleable__label-arrow:before {content: \"▾\";}#sk-container-id-1 div.sk-estimator input.sk-toggleable__control:checked~label.sk-toggleable__label {background-color: #d4ebff;}#sk-container-id-1 div.sk-label input.sk-toggleable__control:checked~label.sk-toggleable__label {background-color: #d4ebff;}#sk-container-id-1 input.sk-hidden--visually {border: 0;clip: rect(1px 1px 1px 1px);clip: rect(1px, 1px, 1px, 1px);height: 1px;margin: -1px;overflow: hidden;padding: 0;position: absolute;width: 1px;}#sk-container-id-1 div.sk-estimator {font-family: monospace;background-color: #f0f8ff;border: 1px dotted black;border-radius: 0.25em;box-sizing: border-box;margin-bottom: 0.5em;}#sk-container-id-1 div.sk-estimator:hover {background-color: #d4ebff;}#sk-container-id-1 div.sk-parallel-item::after {content: \"\";width: 100%;border-bottom: 1px solid gray;flex-grow: 1;}#sk-container-id-1 div.sk-label:hover label.sk-toggleable__label {background-color: #d4ebff;}#sk-container-id-1 div.sk-serial::before {content: \"\";position: absolute;border-left: 1px solid gray;box-sizing: border-box;top: 0;bottom: 0;left: 50%;z-index: 0;}#sk-container-id-1 div.sk-serial {display: flex;flex-direction: column;align-items: center;background-color: white;padding-right: 0.2em;padding-left: 0.2em;position: relative;}#sk-container-id-1 div.sk-item {position: relative;z-index: 1;}#sk-container-id-1 div.sk-parallel {display: flex;align-items: stretch;justify-content: center;background-color: white;position: relative;}#sk-container-id-1 div.sk-item::before, #sk-container-id-1 div.sk-parallel-item::before {content: \"\";position: absolute;border-left: 1px solid gray;box-sizing: border-box;top: 0;bottom: 0;left: 50%;z-index: -1;}#sk-container-id-1 div.sk-parallel-item {display: flex;flex-direction: column;z-index: 1;position: relative;background-color: white;}#sk-container-id-1 div.sk-parallel-item:first-child::after {align-self: flex-end;width: 50%;}#sk-container-id-1 div.sk-parallel-item:last-child::after {align-self: flex-start;width: 50%;}#sk-container-id-1 div.sk-parallel-item:only-child::after {width: 0;}#sk-container-id-1 div.sk-dashed-wrapped {border: 1px dashed gray;margin: 0 0.4em 0.5em 0.4em;box-sizing: border-box;padding-bottom: 0.4em;background-color: white;}#sk-container-id-1 div.sk-label label {font-family: monospace;font-weight: bold;display: inline-block;line-height: 1.2em;}#sk-container-id-1 div.sk-label-container {text-align: center;}#sk-container-id-1 div.sk-container {/* jupyter's `normalize.less` sets `[hidden] { display: none; }` but bootstrap.min.css set `[hidden] { display: none !important; }` so we also need the `!important` here to be able to override the default hidden behavior on the sphinx rendered scikit-learn.org. See: https://github.com/scikit-learn/scikit-learn/issues/21755 */display: inline-block !important;position: relative;}#sk-container-id-1 div.sk-text-repr-fallback {display: none;}</style><div id=\"sk-container-id-1\" class=\"sk-top-container\"><div class=\"sk-text-repr-fallback\"><pre>RandomForestClassifier(max_depth=5, n_estimators=200)</pre><b>In a Jupyter environment, please rerun this cell to show the HTML representation or trust the notebook. <br />On GitHub, the HTML representation is unable to render, please try loading this page with nbviewer.org.</b></div><div class=\"sk-container\" hidden><div class=\"sk-item\"><div class=\"sk-estimator sk-toggleable\"><input class=\"sk-toggleable__control sk-hidden--visually\" id=\"sk-estimator-id-1\" type=\"checkbox\" checked><label for=\"sk-estimator-id-1\" class=\"sk-toggleable__label sk-toggleable__label-arrow\">RandomForestClassifier</label><div class=\"sk-toggleable__content\"><pre>RandomForestClassifier(max_depth=5, n_estimators=200)</pre></div></div></div></div></div>"
      ],
      "text/plain": [
       "RandomForestClassifier(max_depth=5, n_estimators=200)"
      ]
     },
     "execution_count": 24,
     "metadata": {},
     "output_type": "execute_result"
    }
   ],
   "source": [
    "rf_model.fit(X=x_train, y=y_train)\n"
   ]
  },
  {
   "cell_type": "markdown",
   "id": "f8eeb2ca",
   "metadata": {},
   "source": [
    "#### - Individual Trees - Các cây riêng lẻ"
   ]
  },
  {
   "cell_type": "code",
   "execution_count": 25,
   "id": "a92ed6db",
   "metadata": {},
   "outputs": [
    {
     "data": {
      "text/plain": [
       "[DecisionTreeClassifier(max_depth=5, max_features='sqrt', random_state=556839664),\n",
       " DecisionTreeClassifier(max_depth=5, max_features='sqrt', random_state=868037793),\n",
       " DecisionTreeClassifier(max_depth=5, max_features='sqrt', random_state=320920541),\n",
       " DecisionTreeClassifier(max_depth=5, max_features='sqrt',\n",
       "                        random_state=2095291469),\n",
       " DecisionTreeClassifier(max_depth=5, max_features='sqrt',\n",
       "                        random_state=1919922348),\n",
       " DecisionTreeClassifier(max_depth=5, max_features='sqrt', random_state=636967364),\n",
       " DecisionTreeClassifier(max_depth=5, max_features='sqrt', random_state=192026503),\n",
       " DecisionTreeClassifier(max_depth=5, max_features='sqrt', random_state=564536350),\n",
       " DecisionTreeClassifier(max_depth=5, max_features='sqrt', random_state=855158005),\n",
       " DecisionTreeClassifier(max_depth=5, max_features='sqrt', random_state=79713890),\n",
       " DecisionTreeClassifier(max_depth=5, max_features='sqrt',\n",
       "                        random_state=1510891008),\n",
       " DecisionTreeClassifier(max_depth=5, max_features='sqrt',\n",
       "                        random_state=1472245457),\n",
       " DecisionTreeClassifier(max_depth=5, max_features='sqrt', random_state=685719922),\n",
       " DecisionTreeClassifier(max_depth=5, max_features='sqrt',\n",
       "                        random_state=1952017391),\n",
       " DecisionTreeClassifier(max_depth=5, max_features='sqrt', random_state=280179898),\n",
       " DecisionTreeClassifier(max_depth=5, max_features='sqrt',\n",
       "                        random_state=1712064344),\n",
       " DecisionTreeClassifier(max_depth=5, max_features='sqrt',\n",
       "                        random_state=1139358505),\n",
       " DecisionTreeClassifier(max_depth=5, max_features='sqrt',\n",
       "                        random_state=1700805552),\n",
       " DecisionTreeClassifier(max_depth=5, max_features='sqrt',\n",
       "                        random_state=1467719299),\n",
       " DecisionTreeClassifier(max_depth=5, max_features='sqrt',\n",
       "                        random_state=1326605727),\n",
       " DecisionTreeClassifier(max_depth=5, max_features='sqrt', random_state=770822981),\n",
       " DecisionTreeClassifier(max_depth=5, max_features='sqrt', random_state=142564696),\n",
       " DecisionTreeClassifier(max_depth=5, max_features='sqrt',\n",
       "                        random_state=1352743466),\n",
       " DecisionTreeClassifier(max_depth=5, max_features='sqrt', random_state=28387871),\n",
       " DecisionTreeClassifier(max_depth=5, max_features='sqrt',\n",
       "                        random_state=1162578345),\n",
       " DecisionTreeClassifier(max_depth=5, max_features='sqrt',\n",
       "                        random_state=1231115154),\n",
       " DecisionTreeClassifier(max_depth=5, max_features='sqrt',\n",
       "                        random_state=1998580650),\n",
       " DecisionTreeClassifier(max_depth=5, max_features='sqrt',\n",
       "                        random_state=1712295252),\n",
       " DecisionTreeClassifier(max_depth=5, max_features='sqrt',\n",
       "                        random_state=1537657339),\n",
       " DecisionTreeClassifier(max_depth=5, max_features='sqrt',\n",
       "                        random_state=1674822533),\n",
       " DecisionTreeClassifier(max_depth=5, max_features='sqrt',\n",
       "                        random_state=1376868468),\n",
       " DecisionTreeClassifier(max_depth=5, max_features='sqrt',\n",
       "                        random_state=1513072436),\n",
       " DecisionTreeClassifier(max_depth=5, max_features='sqrt',\n",
       "                        random_state=2085366444),\n",
       " DecisionTreeClassifier(max_depth=5, max_features='sqrt',\n",
       "                        random_state=1830595381),\n",
       " DecisionTreeClassifier(max_depth=5, max_features='sqrt', random_state=234945921),\n",
       " DecisionTreeClassifier(max_depth=5, max_features='sqrt',\n",
       "                        random_state=1118968631),\n",
       " DecisionTreeClassifier(max_depth=5, max_features='sqrt',\n",
       "                        random_state=1017570149),\n",
       " DecisionTreeClassifier(max_depth=5, max_features='sqrt', random_state=358240061),\n",
       " DecisionTreeClassifier(max_depth=5, max_features='sqrt', random_state=483404095),\n",
       " DecisionTreeClassifier(max_depth=5, max_features='sqrt', random_state=57641076),\n",
       " DecisionTreeClassifier(max_depth=5, max_features='sqrt', random_state=394154705),\n",
       " DecisionTreeClassifier(max_depth=5, max_features='sqrt',\n",
       "                        random_state=1065307200),\n",
       " DecisionTreeClassifier(max_depth=5, max_features='sqrt', random_state=586708996),\n",
       " DecisionTreeClassifier(max_depth=5, max_features='sqrt',\n",
       "                        random_state=1983538048),\n",
       " DecisionTreeClassifier(max_depth=5, max_features='sqrt',\n",
       "                        random_state=1123969533),\n",
       " DecisionTreeClassifier(max_depth=5, max_features='sqrt', random_state=851413516),\n",
       " DecisionTreeClassifier(max_depth=5, max_features='sqrt', random_state=822460154),\n",
       " DecisionTreeClassifier(max_depth=5, max_features='sqrt', random_state=96865601),\n",
       " DecisionTreeClassifier(max_depth=5, max_features='sqrt',\n",
       "                        random_state=1286925674),\n",
       " DecisionTreeClassifier(max_depth=5, max_features='sqrt', random_state=490771094),\n",
       " DecisionTreeClassifier(max_depth=5, max_features='sqrt', random_state=172074230),\n",
       " DecisionTreeClassifier(max_depth=5, max_features='sqrt', random_state=648236393),\n",
       " DecisionTreeClassifier(max_depth=5, max_features='sqrt', random_state=126782730),\n",
       " DecisionTreeClassifier(max_depth=5, max_features='sqrt', random_state=129274281),\n",
       " DecisionTreeClassifier(max_depth=5, max_features='sqrt', random_state=966881569),\n",
       " DecisionTreeClassifier(max_depth=5, max_features='sqrt', random_state=311977385),\n",
       " DecisionTreeClassifier(max_depth=5, max_features='sqrt', random_state=109194453),\n",
       " DecisionTreeClassifier(max_depth=5, max_features='sqrt',\n",
       "                        random_state=1748945779),\n",
       " DecisionTreeClassifier(max_depth=5, max_features='sqrt',\n",
       "                        random_state=2117057460),\n",
       " DecisionTreeClassifier(max_depth=5, max_features='sqrt',\n",
       "                        random_state=1580793565),\n",
       " DecisionTreeClassifier(max_depth=5, max_features='sqrt', random_state=914710079),\n",
       " DecisionTreeClassifier(max_depth=5, max_features='sqrt',\n",
       "                        random_state=1351994335),\n",
       " DecisionTreeClassifier(max_depth=5, max_features='sqrt',\n",
       "                        random_state=1945666393),\n",
       " DecisionTreeClassifier(max_depth=5, max_features='sqrt',\n",
       "                        random_state=1644900261),\n",
       " DecisionTreeClassifier(max_depth=5, max_features='sqrt', random_state=366014029),\n",
       " DecisionTreeClassifier(max_depth=5, max_features='sqrt', random_state=38310960),\n",
       " DecisionTreeClassifier(max_depth=5, max_features='sqrt',\n",
       "                        random_state=1734039764),\n",
       " DecisionTreeClassifier(max_depth=5, max_features='sqrt',\n",
       "                        random_state=1171779125),\n",
       " DecisionTreeClassifier(max_depth=5, max_features='sqrt', random_state=80695460),\n",
       " DecisionTreeClassifier(max_depth=5, max_features='sqrt', random_state=528030528),\n",
       " DecisionTreeClassifier(max_depth=5, max_features='sqrt', random_state=714634054),\n",
       " DecisionTreeClassifier(max_depth=5, max_features='sqrt', random_state=123894584),\n",
       " DecisionTreeClassifier(max_depth=5, max_features='sqrt',\n",
       "                        random_state=2015405133),\n",
       " DecisionTreeClassifier(max_depth=5, max_features='sqrt',\n",
       "                        random_state=1818462778),\n",
       " DecisionTreeClassifier(max_depth=5, max_features='sqrt',\n",
       "                        random_state=1467319218),\n",
       " DecisionTreeClassifier(max_depth=5, max_features='sqrt',\n",
       "                        random_state=1905066048),\n",
       " DecisionTreeClassifier(max_depth=5, max_features='sqrt', random_state=489188080),\n",
       " DecisionTreeClassifier(max_depth=5, max_features='sqrt', random_state=814313960),\n",
       " DecisionTreeClassifier(max_depth=5, max_features='sqrt',\n",
       "                        random_state=1361721875),\n",
       " DecisionTreeClassifier(max_depth=5, max_features='sqrt',\n",
       "                        random_state=1997589875),\n",
       " DecisionTreeClassifier(max_depth=5, max_features='sqrt', random_state=711884339),\n",
       " DecisionTreeClassifier(max_depth=5, max_features='sqrt',\n",
       "                        random_state=1909896716),\n",
       " DecisionTreeClassifier(max_depth=5, max_features='sqrt',\n",
       "                        random_state=1086250867),\n",
       " DecisionTreeClassifier(max_depth=5, max_features='sqrt', random_state=135426757),\n",
       " DecisionTreeClassifier(max_depth=5, max_features='sqrt', random_state=296304682),\n",
       " DecisionTreeClassifier(max_depth=5, max_features='sqrt', random_state=513880347),\n",
       " DecisionTreeClassifier(max_depth=5, max_features='sqrt', random_state=860290954),\n",
       " DecisionTreeClassifier(max_depth=5, max_features='sqrt', random_state=569009759),\n",
       " DecisionTreeClassifier(max_depth=5, max_features='sqrt', random_state=993078753),\n",
       " DecisionTreeClassifier(max_depth=5, max_features='sqrt', random_state=539883948),\n",
       " DecisionTreeClassifier(max_depth=5, max_features='sqrt',\n",
       "                        random_state=1186903332),\n",
       " DecisionTreeClassifier(max_depth=5, max_features='sqrt',\n",
       "                        random_state=2071914574),\n",
       " DecisionTreeClassifier(max_depth=5, max_features='sqrt', random_state=913072300),\n",
       " DecisionTreeClassifier(max_depth=5, max_features='sqrt',\n",
       "                        random_state=1371125306),\n",
       " DecisionTreeClassifier(max_depth=5, max_features='sqrt',\n",
       "                        random_state=1638102423),\n",
       " DecisionTreeClassifier(max_depth=5, max_features='sqrt',\n",
       "                        random_state=1901975324),\n",
       " DecisionTreeClassifier(max_depth=5, max_features='sqrt',\n",
       "                        random_state=1949006156),\n",
       " DecisionTreeClassifier(max_depth=5, max_features='sqrt',\n",
       "                        random_state=1349534687),\n",
       " DecisionTreeClassifier(max_depth=5, max_features='sqrt', random_state=314488927),\n",
       " DecisionTreeClassifier(max_depth=5, max_features='sqrt', random_state=79841456),\n",
       " DecisionTreeClassifier(max_depth=5, max_features='sqrt', random_state=730008854),\n",
       " DecisionTreeClassifier(max_depth=5, max_features='sqrt', random_state=716902641),\n",
       " DecisionTreeClassifier(max_depth=5, max_features='sqrt', random_state=366179739),\n",
       " DecisionTreeClassifier(max_depth=5, max_features='sqrt', random_state=88332623),\n",
       " DecisionTreeClassifier(max_depth=5, max_features='sqrt', random_state=277287773),\n",
       " DecisionTreeClassifier(max_depth=5, max_features='sqrt', random_state=746248934),\n",
       " DecisionTreeClassifier(max_depth=5, max_features='sqrt', random_state=406839406),\n",
       " DecisionTreeClassifier(max_depth=5, max_features='sqrt',\n",
       "                        random_state=1148216835),\n",
       " DecisionTreeClassifier(max_depth=5, max_features='sqrt',\n",
       "                        random_state=1065119259),\n",
       " DecisionTreeClassifier(max_depth=5, max_features='sqrt', random_state=369571703),\n",
       " DecisionTreeClassifier(max_depth=5, max_features='sqrt', random_state=933984179),\n",
       " DecisionTreeClassifier(max_depth=5, max_features='sqrt',\n",
       "                        random_state=1591977093),\n",
       " DecisionTreeClassifier(max_depth=5, max_features='sqrt',\n",
       "                        random_state=1110230995),\n",
       " DecisionTreeClassifier(max_depth=5, max_features='sqrt',\n",
       "                        random_state=1416603939),\n",
       " DecisionTreeClassifier(max_depth=5, max_features='sqrt',\n",
       "                        random_state=1407921458),\n",
       " DecisionTreeClassifier(max_depth=5, max_features='sqrt', random_state=457864039),\n",
       " DecisionTreeClassifier(max_depth=5, max_features='sqrt', random_state=324332468),\n",
       " DecisionTreeClassifier(max_depth=5, max_features='sqrt',\n",
       "                        random_state=1320822149),\n",
       " DecisionTreeClassifier(max_depth=5, max_features='sqrt', random_state=959313642),\n",
       " DecisionTreeClassifier(max_depth=5, max_features='sqrt',\n",
       "                        random_state=1592497679),\n",
       " DecisionTreeClassifier(max_depth=5, max_features='sqrt',\n",
       "                        random_state=1879489992),\n",
       " DecisionTreeClassifier(max_depth=5, max_features='sqrt', random_state=592452647),\n",
       " DecisionTreeClassifier(max_depth=5, max_features='sqrt',\n",
       "                        random_state=1620526992),\n",
       " DecisionTreeClassifier(max_depth=5, max_features='sqrt',\n",
       "                        random_state=1325870480),\n",
       " DecisionTreeClassifier(max_depth=5, max_features='sqrt',\n",
       "                        random_state=1733069888),\n",
       " DecisionTreeClassifier(max_depth=5, max_features='sqrt', random_state=102349846),\n",
       " DecisionTreeClassifier(max_depth=5, max_features='sqrt',\n",
       "                        random_state=1923844559),\n",
       " DecisionTreeClassifier(max_depth=5, max_features='sqrt',\n",
       "                        random_state=1337117977),\n",
       " DecisionTreeClassifier(max_depth=5, max_features='sqrt',\n",
       "                        random_state=1245646330),\n",
       " DecisionTreeClassifier(max_depth=5, max_features='sqrt',\n",
       "                        random_state=1750624356),\n",
       " DecisionTreeClassifier(max_depth=5, max_features='sqrt', random_state=256216443),\n",
       " DecisionTreeClassifier(max_depth=5, max_features='sqrt', random_state=283705293),\n",
       " DecisionTreeClassifier(max_depth=5, max_features='sqrt', random_state=675895984),\n",
       " DecisionTreeClassifier(max_depth=5, max_features='sqrt',\n",
       "                        random_state=1265377752),\n",
       " DecisionTreeClassifier(max_depth=5, max_features='sqrt', random_state=90359517),\n",
       " DecisionTreeClassifier(max_depth=5, max_features='sqrt', random_state=464895971),\n",
       " DecisionTreeClassifier(max_depth=5, max_features='sqrt', random_state=898614412),\n",
       " DecisionTreeClassifier(max_depth=5, max_features='sqrt',\n",
       "                        random_state=1697286301),\n",
       " DecisionTreeClassifier(max_depth=5, max_features='sqrt', random_state=274063432),\n",
       " DecisionTreeClassifier(max_depth=5, max_features='sqrt',\n",
       "                        random_state=1254643433),\n",
       " DecisionTreeClassifier(max_depth=5, max_features='sqrt', random_state=674043355),\n",
       " DecisionTreeClassifier(max_depth=5, max_features='sqrt',\n",
       "                        random_state=1485990238),\n",
       " DecisionTreeClassifier(max_depth=5, max_features='sqrt',\n",
       "                        random_state=1461171681),\n",
       " DecisionTreeClassifier(max_depth=5, max_features='sqrt',\n",
       "                        random_state=1861820810),\n",
       " DecisionTreeClassifier(max_depth=5, max_features='sqrt',\n",
       "                        random_state=1047652004),\n",
       " DecisionTreeClassifier(max_depth=5, max_features='sqrt',\n",
       "                        random_state=1322595219),\n",
       " DecisionTreeClassifier(max_depth=5, max_features='sqrt', random_state=899841254),\n",
       " DecisionTreeClassifier(max_depth=5, max_features='sqrt',\n",
       "                        random_state=1103359166),\n",
       " DecisionTreeClassifier(max_depth=5, max_features='sqrt',\n",
       "                        random_state=1585860290),\n",
       " DecisionTreeClassifier(max_depth=5, max_features='sqrt',\n",
       "                        random_state=1902527028),\n",
       " DecisionTreeClassifier(max_depth=5, max_features='sqrt', random_state=118867777),\n",
       " DecisionTreeClassifier(max_depth=5, max_features='sqrt', random_state=469659457),\n",
       " DecisionTreeClassifier(max_depth=5, max_features='sqrt', random_state=815497049),\n",
       " DecisionTreeClassifier(max_depth=5, max_features='sqrt', random_state=662499057),\n",
       " DecisionTreeClassifier(max_depth=5, max_features='sqrt',\n",
       "                        random_state=1899769726),\n",
       " DecisionTreeClassifier(max_depth=5, max_features='sqrt',\n",
       "                        random_state=1250927748),\n",
       " DecisionTreeClassifier(max_depth=5, max_features='sqrt', random_state=679612355),\n",
       " DecisionTreeClassifier(max_depth=5, max_features='sqrt',\n",
       "                        random_state=1574762404),\n",
       " DecisionTreeClassifier(max_depth=5, max_features='sqrt',\n",
       "                        random_state=1802054549),\n",
       " DecisionTreeClassifier(max_depth=5, max_features='sqrt',\n",
       "                        random_state=2021546468),\n",
       " DecisionTreeClassifier(max_depth=5, max_features='sqrt',\n",
       "                        random_state=1751204242),\n",
       " DecisionTreeClassifier(max_depth=5, max_features='sqrt', random_state=230209179),\n",
       " DecisionTreeClassifier(max_depth=5, max_features='sqrt', random_state=296834078),\n",
       " DecisionTreeClassifier(max_depth=5, max_features='sqrt',\n",
       "                        random_state=1657929521),\n",
       " DecisionTreeClassifier(max_depth=5, max_features='sqrt', random_state=276420841),\n",
       " DecisionTreeClassifier(max_depth=5, max_features='sqrt',\n",
       "                        random_state=1018017866),\n",
       " DecisionTreeClassifier(max_depth=5, max_features='sqrt', random_state=710922235),\n",
       " DecisionTreeClassifier(max_depth=5, max_features='sqrt',\n",
       "                        random_state=1202546817),\n",
       " DecisionTreeClassifier(max_depth=5, max_features='sqrt',\n",
       "                        random_state=1671792484),\n",
       " DecisionTreeClassifier(max_depth=5, max_features='sqrt',\n",
       "                        random_state=2041763842),\n",
       " DecisionTreeClassifier(max_depth=5, max_features='sqrt',\n",
       "                        random_state=1059307366),\n",
       " DecisionTreeClassifier(max_depth=5, max_features='sqrt', random_state=2834377),\n",
       " DecisionTreeClassifier(max_depth=5, max_features='sqrt',\n",
       "                        random_state=1729975752),\n",
       " DecisionTreeClassifier(max_depth=5, max_features='sqrt', random_state=194377544),\n",
       " DecisionTreeClassifier(max_depth=5, max_features='sqrt',\n",
       "                        random_state=1881414116),\n",
       " DecisionTreeClassifier(max_depth=5, max_features='sqrt',\n",
       "                        random_state=1219564313),\n",
       " DecisionTreeClassifier(max_depth=5, max_features='sqrt', random_state=119152582),\n",
       " DecisionTreeClassifier(max_depth=5, max_features='sqrt', random_state=167177628),\n",
       " DecisionTreeClassifier(max_depth=5, max_features='sqrt', random_state=64407659),\n",
       " DecisionTreeClassifier(max_depth=5, max_features='sqrt',\n",
       "                        random_state=1015881514),\n",
       " DecisionTreeClassifier(max_depth=5, max_features='sqrt',\n",
       "                        random_state=1367090118),\n",
       " DecisionTreeClassifier(max_depth=5, max_features='sqrt',\n",
       "                        random_state=1733422309),\n",
       " DecisionTreeClassifier(max_depth=5, max_features='sqrt', random_state=187683592),\n",
       " DecisionTreeClassifier(max_depth=5, max_features='sqrt',\n",
       "                        random_state=1277053580),\n",
       " DecisionTreeClassifier(max_depth=5, max_features='sqrt',\n",
       "                        random_state=2088489102),\n",
       " DecisionTreeClassifier(max_depth=5, max_features='sqrt', random_state=160381053),\n",
       " DecisionTreeClassifier(max_depth=5, max_features='sqrt',\n",
       "                        random_state=1058915102),\n",
       " DecisionTreeClassifier(max_depth=5, max_features='sqrt',\n",
       "                        random_state=1342885745),\n",
       " DecisionTreeClassifier(max_depth=5, max_features='sqrt', random_state=925657971),\n",
       " DecisionTreeClassifier(max_depth=5, max_features='sqrt',\n",
       "                        random_state=2134190881),\n",
       " DecisionTreeClassifier(max_depth=5, max_features='sqrt',\n",
       "                        random_state=2066257173),\n",
       " DecisionTreeClassifier(max_depth=5, max_features='sqrt', random_state=372233074),\n",
       " DecisionTreeClassifier(max_depth=5, max_features='sqrt',\n",
       "                        random_state=1153823030),\n",
       " DecisionTreeClassifier(max_depth=5, max_features='sqrt',\n",
       "                        random_state=1184622609),\n",
       " DecisionTreeClassifier(max_depth=5, max_features='sqrt', random_state=602781066),\n",
       " DecisionTreeClassifier(max_depth=5, max_features='sqrt', random_state=942020815),\n",
       " DecisionTreeClassifier(max_depth=5, max_features='sqrt', random_state=252852948),\n",
       " DecisionTreeClassifier(max_depth=5, max_features='sqrt',\n",
       "                        random_state=1877002969),\n",
       " DecisionTreeClassifier(max_depth=5, max_features='sqrt',\n",
       "                        random_state=1784910215),\n",
       " DecisionTreeClassifier(max_depth=5, max_features='sqrt', random_state=993158)]"
      ]
     },
     "execution_count": 25,
     "metadata": {},
     "output_type": "execute_result"
    }
   ],
   "source": [
    "rf_model.estimators_"
   ]
  },
  {
   "cell_type": "code",
   "execution_count": 26,
   "id": "0da11416",
   "metadata": {},
   "outputs": [
    {
     "data": {
      "text/html": [
       "<style>#sk-container-id-2 {color: black;}#sk-container-id-2 pre{padding: 0;}#sk-container-id-2 div.sk-toggleable {background-color: white;}#sk-container-id-2 label.sk-toggleable__label {cursor: pointer;display: block;width: 100%;margin-bottom: 0;padding: 0.3em;box-sizing: border-box;text-align: center;}#sk-container-id-2 label.sk-toggleable__label-arrow:before {content: \"▸\";float: left;margin-right: 0.25em;color: #696969;}#sk-container-id-2 label.sk-toggleable__label-arrow:hover:before {color: black;}#sk-container-id-2 div.sk-estimator:hover label.sk-toggleable__label-arrow:before {color: black;}#sk-container-id-2 div.sk-toggleable__content {max-height: 0;max-width: 0;overflow: hidden;text-align: left;background-color: #f0f8ff;}#sk-container-id-2 div.sk-toggleable__content pre {margin: 0.2em;color: black;border-radius: 0.25em;background-color: #f0f8ff;}#sk-container-id-2 input.sk-toggleable__control:checked~div.sk-toggleable__content {max-height: 200px;max-width: 100%;overflow: auto;}#sk-container-id-2 input.sk-toggleable__control:checked~label.sk-toggleable__label-arrow:before {content: \"▾\";}#sk-container-id-2 div.sk-estimator input.sk-toggleable__control:checked~label.sk-toggleable__label {background-color: #d4ebff;}#sk-container-id-2 div.sk-label input.sk-toggleable__control:checked~label.sk-toggleable__label {background-color: #d4ebff;}#sk-container-id-2 input.sk-hidden--visually {border: 0;clip: rect(1px 1px 1px 1px);clip: rect(1px, 1px, 1px, 1px);height: 1px;margin: -1px;overflow: hidden;padding: 0;position: absolute;width: 1px;}#sk-container-id-2 div.sk-estimator {font-family: monospace;background-color: #f0f8ff;border: 1px dotted black;border-radius: 0.25em;box-sizing: border-box;margin-bottom: 0.5em;}#sk-container-id-2 div.sk-estimator:hover {background-color: #d4ebff;}#sk-container-id-2 div.sk-parallel-item::after {content: \"\";width: 100%;border-bottom: 1px solid gray;flex-grow: 1;}#sk-container-id-2 div.sk-label:hover label.sk-toggleable__label {background-color: #d4ebff;}#sk-container-id-2 div.sk-serial::before {content: \"\";position: absolute;border-left: 1px solid gray;box-sizing: border-box;top: 0;bottom: 0;left: 50%;z-index: 0;}#sk-container-id-2 div.sk-serial {display: flex;flex-direction: column;align-items: center;background-color: white;padding-right: 0.2em;padding-left: 0.2em;position: relative;}#sk-container-id-2 div.sk-item {position: relative;z-index: 1;}#sk-container-id-2 div.sk-parallel {display: flex;align-items: stretch;justify-content: center;background-color: white;position: relative;}#sk-container-id-2 div.sk-item::before, #sk-container-id-2 div.sk-parallel-item::before {content: \"\";position: absolute;border-left: 1px solid gray;box-sizing: border-box;top: 0;bottom: 0;left: 50%;z-index: -1;}#sk-container-id-2 div.sk-parallel-item {display: flex;flex-direction: column;z-index: 1;position: relative;background-color: white;}#sk-container-id-2 div.sk-parallel-item:first-child::after {align-self: flex-end;width: 50%;}#sk-container-id-2 div.sk-parallel-item:last-child::after {align-self: flex-start;width: 50%;}#sk-container-id-2 div.sk-parallel-item:only-child::after {width: 0;}#sk-container-id-2 div.sk-dashed-wrapped {border: 1px dashed gray;margin: 0 0.4em 0.5em 0.4em;box-sizing: border-box;padding-bottom: 0.4em;background-color: white;}#sk-container-id-2 div.sk-label label {font-family: monospace;font-weight: bold;display: inline-block;line-height: 1.2em;}#sk-container-id-2 div.sk-label-container {text-align: center;}#sk-container-id-2 div.sk-container {/* jupyter's `normalize.less` sets `[hidden] { display: none; }` but bootstrap.min.css set `[hidden] { display: none !important; }` so we also need the `!important` here to be able to override the default hidden behavior on the sphinx rendered scikit-learn.org. See: https://github.com/scikit-learn/scikit-learn/issues/21755 */display: inline-block !important;position: relative;}#sk-container-id-2 div.sk-text-repr-fallback {display: none;}</style><div id=\"sk-container-id-2\" class=\"sk-top-container\"><div class=\"sk-text-repr-fallback\"><pre>DecisionTreeClassifier(max_depth=5, max_features=&#x27;sqrt&#x27;, random_state=556839664)</pre><b>In a Jupyter environment, please rerun this cell to show the HTML representation or trust the notebook. <br />On GitHub, the HTML representation is unable to render, please try loading this page with nbviewer.org.</b></div><div class=\"sk-container\" hidden><div class=\"sk-item\"><div class=\"sk-estimator sk-toggleable\"><input class=\"sk-toggleable__control sk-hidden--visually\" id=\"sk-estimator-id-2\" type=\"checkbox\" checked><label for=\"sk-estimator-id-2\" class=\"sk-toggleable__label sk-toggleable__label-arrow\">DecisionTreeClassifier</label><div class=\"sk-toggleable__content\"><pre>DecisionTreeClassifier(max_depth=5, max_features=&#x27;sqrt&#x27;, random_state=556839664)</pre></div></div></div></div></div>"
      ],
      "text/plain": [
       "DecisionTreeClassifier(max_depth=5, max_features='sqrt', random_state=556839664)"
      ]
     },
     "execution_count": 26,
     "metadata": {},
     "output_type": "execute_result"
    }
   ],
   "source": [
    "rf_model.estimators_[0]"
   ]
  },
  {
   "cell_type": "code",
   "execution_count": 27,
   "id": "d1ebc748",
   "metadata": {},
   "outputs": [
    {
     "name": "stderr",
     "output_type": "stream",
     "text": [
      "C:\\Users\\84973\\anaconda3\\Lib\\site-packages\\sklearn\\base.py:457: UserWarning: X has feature names, but DecisionTreeClassifier was fitted without feature names\n",
      "  warnings.warn(\n"
     ]
    },
    {
     "data": {
      "text/plain": [
       "array([0., 0., 0., 0., 0., 0., 0., 0., 0., 0.])"
      ]
     },
     "execution_count": 27,
     "metadata": {},
     "output_type": "execute_result"
    }
   ],
   "source": [
    "rf_model.estimators_[0].predict(x_test)[:10]"
   ]
  },
  {
   "cell_type": "code",
   "execution_count": 28,
   "id": "7139c205",
   "metadata": {},
   "outputs": [
    {
     "name": "stderr",
     "output_type": "stream",
     "text": [
      "C:\\Users\\84973\\anaconda3\\Lib\\site-packages\\sklearn\\base.py:457: UserWarning: X has feature names, but DecisionTreeClassifier was fitted without feature names\n",
      "  warnings.warn(\n"
     ]
    },
    {
     "data": {
      "text/plain": [
       "array([0., 0., 0., 0., 0., 0., 0., 0., 0., 0.])"
      ]
     },
     "execution_count": 28,
     "metadata": {},
     "output_type": "execute_result"
    }
   ],
   "source": [
    "rf_model.estimators_[1].predict(x_test)[:10]"
   ]
  },
  {
   "cell_type": "code",
   "execution_count": 29,
   "id": "8e059a59",
   "metadata": {},
   "outputs": [
    {
     "name": "stderr",
     "output_type": "stream",
     "text": [
      "C:\\Users\\84973\\anaconda3\\Lib\\site-packages\\sklearn\\base.py:457: UserWarning: X has feature names, but DecisionTreeClassifier was fitted without feature names\n",
      "  warnings.warn(\n"
     ]
    },
    {
     "data": {
      "text/plain": [
       "array([0., 0., 0., 0., 0., 0., 0., 0., 0., 0.])"
      ]
     },
     "execution_count": 29,
     "metadata": {},
     "output_type": "execute_result"
    }
   ],
   "source": [
    "rf_model.estimators_[2].predict(x_test)[:10]"
   ]
  },
  {
   "cell_type": "code",
   "execution_count": 30,
   "id": "606885b1",
   "metadata": {},
   "outputs": [
    {
     "name": "stderr",
     "output_type": "stream",
     "text": [
      "C:\\Users\\84973\\anaconda3\\Lib\\site-packages\\sklearn\\base.py:457: UserWarning: X has feature names, but DecisionTreeClassifier was fitted without feature names\n",
      "  warnings.warn(\n"
     ]
    },
    {
     "data": {
      "text/plain": [
       "array([0., 0., 0., 0., 0., 0., 0., 0., 0., 0.])"
      ]
     },
     "execution_count": 30,
     "metadata": {},
     "output_type": "execute_result"
    }
   ],
   "source": [
    "rf_model.estimators_[3].predict(x_test)[:10]"
   ]
  },
  {
   "cell_type": "code",
   "execution_count": 31,
   "id": "69f2c791",
   "metadata": {},
   "outputs": [
    {
     "name": "stderr",
     "output_type": "stream",
     "text": [
      "C:\\Users\\84973\\anaconda3\\Lib\\site-packages\\sklearn\\base.py:457: UserWarning: X has feature names, but DecisionTreeClassifier was fitted without feature names\n",
      "  warnings.warn(\n"
     ]
    },
    {
     "data": {
      "text/plain": [
       "array([0., 0., 0., 0., 0., 0., 0., 0., 0., 0.])"
      ]
     },
     "execution_count": 31,
     "metadata": {},
     "output_type": "execute_result"
    }
   ],
   "source": [
    "rf_model.estimators_[4].predict(x_test)[:10]"
   ]
  },
  {
   "cell_type": "markdown",
   "id": "8b11a83b",
   "metadata": {},
   "source": [
    "#### - Feature Importances - Tầm quan trọng của các thuộc tính"
   ]
  },
  {
   "cell_type": "code",
   "execution_count": 32,
   "id": "ea9892d4",
   "metadata": {},
   "outputs": [
    {
     "data": {
      "text/plain": [
       "array([5.89736091e-02, 8.02340016e-02, 5.27127322e-02, 3.06413814e-02,\n",
       "       4.94424627e-02, 1.11627586e-02, 1.94929335e-02, 7.33869789e-02,\n",
       "       4.58181477e-02, 6.00631518e-03, 8.45634080e-03, 4.58996202e-03,\n",
       "       5.65283623e-03, 8.38212944e-03, 9.82221495e-03, 3.73333268e-03,\n",
       "       7.72355279e-04, 3.09126982e-03, 4.88478299e-03, 6.45114551e-03,\n",
       "       4.01034351e-03, 5.41472167e-04, 1.50758892e-03, 8.31463639e-04,\n",
       "       2.15202289e-03, 6.80383639e-04, 1.46428936e-03, 1.50198796e-04,\n",
       "       4.73619843e-04, 1.88682105e-03, 1.73569694e-03, 1.02450576e-03,\n",
       "       9.00047722e-04, 2.42502561e-03, 2.09641512e-02, 4.44658589e-03,\n",
       "       3.30898134e-01, 2.82131470e-02, 4.22135876e-02, 1.30590015e-02,\n",
       "       1.04731717e-02, 4.04502700e-03, 7.16042073e-03, 4.54934591e-03,\n",
       "       3.39365851e-03, 7.54682864e-03, 5.48053162e-03, 4.78269540e-03,\n",
       "       3.05674072e-03, 6.22580166e-03])"
      ]
     },
     "execution_count": 32,
     "metadata": {},
     "output_type": "execute_result"
    }
   ],
   "source": [
    "rf_model.feature_importances_"
   ]
  },
  {
   "cell_type": "code",
   "execution_count": 33,
   "id": "22338f85",
   "metadata": {},
   "outputs": [
    {
     "data": {
      "text/html": [
       "<div>\n",
       "<style scoped>\n",
       "    .dataframe tbody tr th:only-of-type {\n",
       "        vertical-align: middle;\n",
       "    }\n",
       "\n",
       "    .dataframe tbody tr th {\n",
       "        vertical-align: top;\n",
       "    }\n",
       "\n",
       "    .dataframe thead th {\n",
       "        text-align: right;\n",
       "    }\n",
       "</style>\n",
       "<table border=\"1\" class=\"dataframe\">\n",
       "  <thead>\n",
       "    <tr style=\"text-align: right;\">\n",
       "      <th></th>\n",
       "      <th>feature.importance</th>\n",
       "      <th>feature</th>\n",
       "    </tr>\n",
       "  </thead>\n",
       "  <tbody>\n",
       "    <tr>\n",
       "      <th>36</th>\n",
       "      <td>0.330898</td>\n",
       "      <td>EmploymentStatus.Retired</td>\n",
       "    </tr>\n",
       "    <tr>\n",
       "      <th>1</th>\n",
       "      <td>0.080234</td>\n",
       "      <td>Income</td>\n",
       "    </tr>\n",
       "    <tr>\n",
       "      <th>7</th>\n",
       "      <td>0.073387</td>\n",
       "      <td>Total.Claim.Amount</td>\n",
       "    </tr>\n",
       "    <tr>\n",
       "      <th>0</th>\n",
       "      <td>0.058974</td>\n",
       "      <td>Customer.Lifetime.Value</td>\n",
       "    </tr>\n",
       "    <tr>\n",
       "      <th>2</th>\n",
       "      <td>0.052713</td>\n",
       "      <td>Monthly.Premium.Auto</td>\n",
       "    </tr>\n",
       "    <tr>\n",
       "      <th>4</th>\n",
       "      <td>0.049442</td>\n",
       "      <td>Months.Since.Policy.Inception</td>\n",
       "    </tr>\n",
       "    <tr>\n",
       "      <th>8</th>\n",
       "      <td>0.045818</td>\n",
       "      <td>Sales.Channel.Agent</td>\n",
       "    </tr>\n",
       "    <tr>\n",
       "      <th>38</th>\n",
       "      <td>0.042214</td>\n",
       "      <td>Marital.Status.Divorced</td>\n",
       "    </tr>\n",
       "    <tr>\n",
       "      <th>3</th>\n",
       "      <td>0.030641</td>\n",
       "      <td>Months.Since.Last.Claim</td>\n",
       "    </tr>\n",
       "    <tr>\n",
       "      <th>37</th>\n",
       "      <td>0.028213</td>\n",
       "      <td>EmploymentStatus.Unemployed</td>\n",
       "    </tr>\n",
       "    <tr>\n",
       "      <th>34</th>\n",
       "      <td>0.020964</td>\n",
       "      <td>EmploymentStatus.Employed</td>\n",
       "    </tr>\n",
       "    <tr>\n",
       "      <th>6</th>\n",
       "      <td>0.019493</td>\n",
       "      <td>Number.of.Policies</td>\n",
       "    </tr>\n",
       "    <tr>\n",
       "      <th>39</th>\n",
       "      <td>0.013059</td>\n",
       "      <td>Marital.Status.Married</td>\n",
       "    </tr>\n",
       "    <tr>\n",
       "      <th>5</th>\n",
       "      <td>0.011163</td>\n",
       "      <td>Number.of.Open.Complaints</td>\n",
       "    </tr>\n",
       "    <tr>\n",
       "      <th>40</th>\n",
       "      <td>0.010473</td>\n",
       "      <td>Marital.Status.Single</td>\n",
       "    </tr>\n",
       "    <tr>\n",
       "      <th>14</th>\n",
       "      <td>0.009822</td>\n",
       "      <td>Vehicle.Size.Small</td>\n",
       "    </tr>\n",
       "    <tr>\n",
       "      <th>10</th>\n",
       "      <td>0.008456</td>\n",
       "      <td>Sales.Channel.Call.Center</td>\n",
       "    </tr>\n",
       "    <tr>\n",
       "      <th>13</th>\n",
       "      <td>0.008382</td>\n",
       "      <td>Vehicle.Size.Medsize</td>\n",
       "    </tr>\n",
       "    <tr>\n",
       "      <th>45</th>\n",
       "      <td>0.007547</td>\n",
       "      <td>Education.Master</td>\n",
       "    </tr>\n",
       "    <tr>\n",
       "      <th>42</th>\n",
       "      <td>0.007160</td>\n",
       "      <td>Education.College</td>\n",
       "    </tr>\n",
       "    <tr>\n",
       "      <th>19</th>\n",
       "      <td>0.006451</td>\n",
       "      <td>Vehicle.Class.Sports.Car</td>\n",
       "    </tr>\n",
       "    <tr>\n",
       "      <th>49</th>\n",
       "      <td>0.006226</td>\n",
       "      <td>Is.Female</td>\n",
       "    </tr>\n",
       "    <tr>\n",
       "      <th>9</th>\n",
       "      <td>0.006006</td>\n",
       "      <td>Sales.Channel.Branch</td>\n",
       "    </tr>\n",
       "    <tr>\n",
       "      <th>12</th>\n",
       "      <td>0.005653</td>\n",
       "      <td>Vehicle.Size.Large</td>\n",
       "    </tr>\n",
       "    <tr>\n",
       "      <th>46</th>\n",
       "      <td>0.005481</td>\n",
       "      <td>Coverage.Basic</td>\n",
       "    </tr>\n",
       "    <tr>\n",
       "      <th>18</th>\n",
       "      <td>0.004885</td>\n",
       "      <td>Vehicle.Class.SUV</td>\n",
       "    </tr>\n",
       "    <tr>\n",
       "      <th>47</th>\n",
       "      <td>0.004783</td>\n",
       "      <td>Coverage.Extended</td>\n",
       "    </tr>\n",
       "    <tr>\n",
       "      <th>11</th>\n",
       "      <td>0.004590</td>\n",
       "      <td>Sales.Channel.Web</td>\n",
       "    </tr>\n",
       "    <tr>\n",
       "      <th>43</th>\n",
       "      <td>0.004549</td>\n",
       "      <td>Education.Doctor</td>\n",
       "    </tr>\n",
       "    <tr>\n",
       "      <th>35</th>\n",
       "      <td>0.004447</td>\n",
       "      <td>EmploymentStatus.Medical.Leave</td>\n",
       "    </tr>\n",
       "    <tr>\n",
       "      <th>41</th>\n",
       "      <td>0.004045</td>\n",
       "      <td>Education.Bachelor</td>\n",
       "    </tr>\n",
       "    <tr>\n",
       "      <th>20</th>\n",
       "      <td>0.004010</td>\n",
       "      <td>Vehicle.Class.Two-Door.Car</td>\n",
       "    </tr>\n",
       "    <tr>\n",
       "      <th>15</th>\n",
       "      <td>0.003733</td>\n",
       "      <td>Vehicle.Class.Four-Door.Car</td>\n",
       "    </tr>\n",
       "    <tr>\n",
       "      <th>44</th>\n",
       "      <td>0.003394</td>\n",
       "      <td>Education.High.School.or.Below</td>\n",
       "    </tr>\n",
       "    <tr>\n",
       "      <th>17</th>\n",
       "      <td>0.003091</td>\n",
       "      <td>Vehicle.Class.Luxury.SUV</td>\n",
       "    </tr>\n",
       "    <tr>\n",
       "      <th>48</th>\n",
       "      <td>0.003057</td>\n",
       "      <td>Coverage.Premium</td>\n",
       "    </tr>\n",
       "    <tr>\n",
       "      <th>33</th>\n",
       "      <td>0.002425</td>\n",
       "      <td>EmploymentStatus.Disabled</td>\n",
       "    </tr>\n",
       "    <tr>\n",
       "      <th>24</th>\n",
       "      <td>0.002152</td>\n",
       "      <td>Policy.Personal.L1</td>\n",
       "    </tr>\n",
       "    <tr>\n",
       "      <th>29</th>\n",
       "      <td>0.001887</td>\n",
       "      <td>Policy.Special.L3</td>\n",
       "    </tr>\n",
       "    <tr>\n",
       "      <th>30</th>\n",
       "      <td>0.001736</td>\n",
       "      <td>Policy.Type.Corporate.Auto</td>\n",
       "    </tr>\n",
       "    <tr>\n",
       "      <th>22</th>\n",
       "      <td>0.001508</td>\n",
       "      <td>Policy.Corporate.L2</td>\n",
       "    </tr>\n",
       "    <tr>\n",
       "      <th>26</th>\n",
       "      <td>0.001464</td>\n",
       "      <td>Policy.Personal.L3</td>\n",
       "    </tr>\n",
       "    <tr>\n",
       "      <th>31</th>\n",
       "      <td>0.001025</td>\n",
       "      <td>Policy.Type.Personal.Auto</td>\n",
       "    </tr>\n",
       "    <tr>\n",
       "      <th>32</th>\n",
       "      <td>0.000900</td>\n",
       "      <td>Policy.Type.Special.Auto</td>\n",
       "    </tr>\n",
       "    <tr>\n",
       "      <th>23</th>\n",
       "      <td>0.000831</td>\n",
       "      <td>Policy.Corporate.L3</td>\n",
       "    </tr>\n",
       "    <tr>\n",
       "      <th>16</th>\n",
       "      <td>0.000772</td>\n",
       "      <td>Vehicle.Class.Luxury.Car</td>\n",
       "    </tr>\n",
       "    <tr>\n",
       "      <th>25</th>\n",
       "      <td>0.000680</td>\n",
       "      <td>Policy.Personal.L2</td>\n",
       "    </tr>\n",
       "    <tr>\n",
       "      <th>21</th>\n",
       "      <td>0.000541</td>\n",
       "      <td>Policy.Corporate.L1</td>\n",
       "    </tr>\n",
       "    <tr>\n",
       "      <th>28</th>\n",
       "      <td>0.000474</td>\n",
       "      <td>Policy.Special.L2</td>\n",
       "    </tr>\n",
       "    <tr>\n",
       "      <th>27</th>\n",
       "      <td>0.000150</td>\n",
       "      <td>Policy.Special.L1</td>\n",
       "    </tr>\n",
       "  </tbody>\n",
       "</table>\n",
       "</div>"
      ],
      "text/plain": [
       "    feature.importance                         feature\n",
       "36            0.330898        EmploymentStatus.Retired\n",
       "1             0.080234                          Income\n",
       "7             0.073387              Total.Claim.Amount\n",
       "0             0.058974         Customer.Lifetime.Value\n",
       "2             0.052713            Monthly.Premium.Auto\n",
       "4             0.049442   Months.Since.Policy.Inception\n",
       "8             0.045818             Sales.Channel.Agent\n",
       "38            0.042214         Marital.Status.Divorced\n",
       "3             0.030641         Months.Since.Last.Claim\n",
       "37            0.028213     EmploymentStatus.Unemployed\n",
       "34            0.020964       EmploymentStatus.Employed\n",
       "6             0.019493              Number.of.Policies\n",
       "39            0.013059          Marital.Status.Married\n",
       "5             0.011163       Number.of.Open.Complaints\n",
       "40            0.010473           Marital.Status.Single\n",
       "14            0.009822              Vehicle.Size.Small\n",
       "10            0.008456       Sales.Channel.Call.Center\n",
       "13            0.008382            Vehicle.Size.Medsize\n",
       "45            0.007547                Education.Master\n",
       "42            0.007160               Education.College\n",
       "19            0.006451        Vehicle.Class.Sports.Car\n",
       "49            0.006226                       Is.Female\n",
       "9             0.006006            Sales.Channel.Branch\n",
       "12            0.005653              Vehicle.Size.Large\n",
       "46            0.005481                  Coverage.Basic\n",
       "18            0.004885               Vehicle.Class.SUV\n",
       "47            0.004783               Coverage.Extended\n",
       "11            0.004590               Sales.Channel.Web\n",
       "43            0.004549                Education.Doctor\n",
       "35            0.004447  EmploymentStatus.Medical.Leave\n",
       "41            0.004045              Education.Bachelor\n",
       "20            0.004010      Vehicle.Class.Two-Door.Car\n",
       "15            0.003733     Vehicle.Class.Four-Door.Car\n",
       "44            0.003394  Education.High.School.or.Below\n",
       "17            0.003091        Vehicle.Class.Luxury.SUV\n",
       "48            0.003057                Coverage.Premium\n",
       "33            0.002425       EmploymentStatus.Disabled\n",
       "24            0.002152              Policy.Personal.L1\n",
       "29            0.001887               Policy.Special.L3\n",
       "30            0.001736      Policy.Type.Corporate.Auto\n",
       "22            0.001508             Policy.Corporate.L2\n",
       "26            0.001464              Policy.Personal.L3\n",
       "31            0.001025       Policy.Type.Personal.Auto\n",
       "32            0.000900        Policy.Type.Special.Auto\n",
       "23            0.000831             Policy.Corporate.L3\n",
       "16            0.000772        Vehicle.Class.Luxury.Car\n",
       "25            0.000680              Policy.Personal.L2\n",
       "21            0.000541             Policy.Corporate.L1\n",
       "28            0.000474               Policy.Special.L2\n",
       "27            0.000150               Policy.Special.L1"
      ]
     },
     "execution_count": 33,
     "metadata": {},
     "output_type": "execute_result"
    }
   ],
   "source": [
    "feature_importance_df = pd.DataFrame(list(zip(rf_model.feature_importances_, all_features)))\n",
    "feature_importance_df.columns = ['feature.importance', 'feature']\n",
    "\n",
    "feature_importance_df.sort_values(by='feature.importance', ascending=False)"
   ]
  },
  {
   "cell_type": "markdown",
   "id": "186ea44d",
   "metadata": {},
   "source": [
    "### 3.2.Evaluating Models"
   ]
  },
  {
   "cell_type": "markdown",
   "id": "d1e622e8",
   "metadata": {},
   "source": [
    "#### - Accuracy, Precision, and Recall"
   ]
  },
  {
   "cell_type": "code",
   "execution_count": 34,
   "id": "584f391f",
   "metadata": {},
   "outputs": [],
   "source": [
    "from sklearn.metrics import accuracy_score, precision_score, recall_score"
   ]
  },
  {
   "cell_type": "code",
   "execution_count": 35,
   "id": "e7e39423",
   "metadata": {},
   "outputs": [],
   "source": [
    "in_sample_preds = rf_model.predict(x_train)\n",
    "out_sample_preds = rf_model.predict(x_test)\n"
   ]
  },
  {
   "cell_type": "code",
   "execution_count": 36,
   "id": "7bcbbe40",
   "metadata": {},
   "outputs": [
    {
     "name": "stdout",
     "output_type": "stream",
     "text": [
      "In-Sample Accuracy: 0.8789\n",
      "Out-of-Sample Accuracy: 0.8763\n"
     ]
    }
   ],
   "source": [
    "print('In-Sample Accuracy: %0.4f' % accuracy_score(y_train, in_sample_preds))\n",
    "print('Out-of-Sample Accuracy: %0.4f' % accuracy_score(y_test, out_sample_preds))"
   ]
  },
  {
   "cell_type": "code",
   "execution_count": 37,
   "id": "3de9ca0c",
   "metadata": {},
   "outputs": [
    {
     "name": "stdout",
     "output_type": "stream",
     "text": [
      "In-Sample Precision: 0.9804\n",
      "Out-of-Sample Precision: 0.9000\n"
     ]
    }
   ],
   "source": [
    "print('In-Sample Precision: %0.4f' % precision_score(y_train, in_sample_preds))\n",
    "print('Out-of-Sample Precision: %0.4f' % precision_score(y_test, out_sample_preds))"
   ]
  },
  {
   "cell_type": "code",
   "execution_count": 38,
   "id": "457c63f0",
   "metadata": {},
   "outputs": [
    {
     "name": "stdout",
     "output_type": "stream",
     "text": [
      "In-Sample Recall: 0.1629\n",
      "Out-of-Sample Recall: 0.1395\n"
     ]
    }
   ],
   "source": [
    "print('In-Sample Recall: %0.4f' % recall_score(y_train, in_sample_preds))\n",
    "print('Out-of-Sample Recall: %0.4f' % recall_score(y_test, out_sample_preds))\n"
   ]
  },
  {
   "cell_type": "markdown",
   "id": "6b180260",
   "metadata": {},
   "source": [
    "#### - ROC & AUC"
   ]
  },
  {
   "cell_type": "code",
   "execution_count": 39,
   "id": "b9c210e9",
   "metadata": {},
   "outputs": [],
   "source": [
    "from sklearn.metrics import roc_curve, auc"
   ]
  },
  {
   "cell_type": "code",
   "execution_count": 40,
   "id": "c7e3242a",
   "metadata": {},
   "outputs": [],
   "source": [
    "in_sample_preds = rf_model.predict_proba(x_train)[:,1]\n",
    "out_sample_preds = rf_model.predict_proba(x_test)[:,1]"
   ]
  },
  {
   "cell_type": "code",
   "execution_count": 41,
   "id": "5277f3bf",
   "metadata": {},
   "outputs": [],
   "source": [
    "in_sample_fpr, in_sample_tpr, in_sample_thresholds = roc_curve(y_train, in_sample_preds)\n",
    "out_sample_fpr, out_sample_tpr, out_sample_thresholds = roc_curve(y_test, out_sample_preds)"
   ]
  },
  {
   "cell_type": "code",
   "execution_count": 42,
   "id": "d97e0539",
   "metadata": {},
   "outputs": [
    {
     "name": "stdout",
     "output_type": "stream",
     "text": [
      "In-Sample AUC: 0.8833\n",
      "Out-Sample AUC: 0.8268\n"
     ]
    }
   ],
   "source": [
    "in_sample_roc_auc = auc(in_sample_fpr, in_sample_tpr)\n",
    "out_sample_roc_auc = auc(out_sample_fpr, out_sample_tpr)\n",
    "\n",
    "print('In-Sample AUC: %0.4f' % in_sample_roc_auc)\n",
    "print('Out-Sample AUC: %0.4f' % out_sample_roc_auc)"
   ]
  },
  {
   "cell_type": "code",
   "execution_count": 43,
   "id": "c3862375",
   "metadata": {},
   "outputs": [
    {
     "data": {
      "image/png": "[encoded data removed]",
      "text/plain": [
       "<Figure size 1000x700 with 1 Axes>"
      ]
     },
     "metadata": {},
     "output_type": "display_data"
    }
   ],
   "source": [
    "plt.figure(figsize=(10,7))\n",
    "\n",
    "plt.plot(\n",
    "    out_sample_fpr, out_sample_tpr, color='darkorange', label='Out-Sample ROC curve (area = %0.4f)' % in_sample_roc_auc\n",
    ")\n",
    "plt.plot(\n",
    "    in_sample_fpr, in_sample_tpr, color='navy', label='In-Sample ROC curve (area = %0.4f)' % out_sample_roc_auc\n",
    ")\n",
    "plt.plot([0, 1], [0, 1], color='gray', lw=1, linestyle='--')\n",
    "plt.grid()\n",
    "plt.xlim([0.0, 1.0])\n",
    "plt.ylim([0.0, 1.05])\n",
    "plt.xlabel('False Positive Rate')\n",
    "plt.ylabel('True Positive Rate')\n",
    "plt.title('RandomForest Model ROC Curve')\n",
    "plt.legend(loc=\"lower right\")\n",
    "\n",
    "plt.show()"
   ]
  },
  {
   "cell_type": "code",
   "execution_count": null,
   "id": "a6e623e5",
   "metadata": {},
   "outputs": [],
   "source": []
  },
  {
   "cell_type": "code",
   "execution_count": null,
   "id": "be533886",
   "metadata": {},
   "outputs": [],
   "source": []
  }
 ],
 "metadata": {
  "kernelspec": {
   "display_name": "Python 3 (ipykernel)",
   "language": "python",
   "name": "python3"
  },
  "language_info": {
   "codemirror_mode": {
    "name": "ipython",
    "version": 3
   },
   "file_extension": ".py",
   "mimetype": "text/x-python",
   "name": "python",
   "nbconvert_exporter": "python",
   "pygments_lexer": "ipython3",
   "version": "3.11.4"
  }
 },
 "nbformat": 4,
 "nbformat_minor": 5
}
